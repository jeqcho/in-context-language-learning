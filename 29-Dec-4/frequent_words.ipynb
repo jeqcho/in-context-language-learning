{
 "cells": [
  {
   "cell_type": "markdown",
   "metadata": {},
   "source": [
    "This notebook finds the most frequent words from a processed TinyStories dataset and plots the number of available sentences that use only a number of most frequent words. It outputs a dataset of sentences that uses only the top K most frequent words.\n",
    "\n",
    "Input file:\n",
    "`/n/netscratch/sham_lab/Everyone/jchooi/in-context-language-learning/data/TinyStories-processed.txt`\n",
    "\n",
    "Output file:\n",
    "`/n/netscratch/sham_lab/Everyone/jchooi/in-context-language-learning/data/TinyStories-frequent-K.txt`\n",
    "\n",
    "where K is 100, 200, 300, 400, 500, and the file containing the words and their frequencies\n",
    "`/n/netscratch/sham_lab/Everyone/jchooi/in-context-language-learning/data/TinyStories-word-freq.csv`"
   ]
  },
  {
   "cell_type": "code",
   "execution_count": 2,
   "metadata": {},
   "outputs": [],
   "source": [
    "input_file = \"/n/netscratch/sham_lab/Everyone/jchooi/in-context-language-learning/data/TinyStories-processed.txt\""
   ]
  },
  {
   "cell_type": "code",
   "execution_count": 3,
   "metadata": {},
   "outputs": [
    {
     "name": "stderr",
     "output_type": "stream",
     "text": [
      "Processing lines: 100%|██████████| 994M/994M [00:43<00:00, 23.7MB/s] \n"
     ]
    }
   ],
   "source": [
    "from collections import Counter\n",
    "from tqdm import tqdm\n",
    "import os\n",
    "\n",
    "# Initialize the Counter\n",
    "word_freq = Counter()\n",
    "\n",
    "# Get the file size\n",
    "file_size = os.path.getsize(input_file)\n",
    "\n",
    "# Open the file and initialize tqdm with the total file size\n",
    "with open(input_file, 'r') as file:\n",
    "    pbar = tqdm(total=file_size, desc=\"Processing lines\", unit=\"B\", unit_scale=True, unit_divisor=1024)\n",
    "\n",
    "    for line in file:\n",
    "        # Tokenize the line into words\n",
    "        words = line.split()\n",
    "        # Update the word frequencies\n",
    "        word_freq.update(words)\n",
    "        # Update the progress bar by the length of the line\n",
    "        pbar.update(len(line.encode('utf-8')))\n",
    "\n",
    "# Close the progress bar\n",
    "pbar.close()\n"
   ]
  },
  {
   "cell_type": "code",
   "execution_count": 4,
   "metadata": {},
   "outputs": [
    {
     "data": {
      "text/html": [
       "<div>\n",
       "<style scoped>\n",
       "    .dataframe tbody tr th:only-of-type {\n",
       "        vertical-align: middle;\n",
       "    }\n",
       "\n",
       "    .dataframe tbody tr th {\n",
       "        vertical-align: top;\n",
       "    }\n",
       "\n",
       "    .dataframe thead th {\n",
       "        text-align: right;\n",
       "    }\n",
       "</style>\n",
       "<table border=\"1\" class=\"dataframe\">\n",
       "  <thead>\n",
       "    <tr style=\"text-align: right;\">\n",
       "      <th></th>\n",
       "      <th>Character</th>\n",
       "      <th>Frequency</th>\n",
       "    </tr>\n",
       "  </thead>\n",
       "  <tbody>\n",
       "    <tr>\n",
       "      <th>0</th>\n",
       "      <td>.</td>\n",
       "      <td>21637643</td>\n",
       "    </tr>\n",
       "    <tr>\n",
       "      <th>1</th>\n",
       "      <td>the</td>\n",
       "      <td>13026562</td>\n",
       "    </tr>\n",
       "    <tr>\n",
       "      <th>2</th>\n",
       "      <td>and</td>\n",
       "      <td>9573623</td>\n",
       "    </tr>\n",
       "    <tr>\n",
       "      <th>3</th>\n",
       "      <td>a</td>\n",
       "      <td>8937078</td>\n",
       "    </tr>\n",
       "    <tr>\n",
       "      <th>4</th>\n",
       "      <td>,</td>\n",
       "      <td>8350439</td>\n",
       "    </tr>\n",
       "    <tr>\n",
       "      <th>5</th>\n",
       "      <td>to</td>\n",
       "      <td>7517841</td>\n",
       "    </tr>\n",
       "    <tr>\n",
       "      <th>6</th>\n",
       "      <td>was</td>\n",
       "      <td>5975410</td>\n",
       "    </tr>\n",
       "    <tr>\n",
       "      <th>7</th>\n",
       "      <td>they</td>\n",
       "      <td>4916225</td>\n",
       "    </tr>\n",
       "    <tr>\n",
       "      <th>8</th>\n",
       "      <td>he</td>\n",
       "      <td>4269702</td>\n",
       "    </tr>\n",
       "    <tr>\n",
       "      <th>9</th>\n",
       "      <td>it</td>\n",
       "      <td>3083743</td>\n",
       "    </tr>\n",
       "    <tr>\n",
       "      <th>10</th>\n",
       "      <td>she</td>\n",
       "      <td>3036916</td>\n",
       "    </tr>\n",
       "    <tr>\n",
       "      <th>11</th>\n",
       "      <td>day</td>\n",
       "      <td>2512770</td>\n",
       "    </tr>\n",
       "    <tr>\n",
       "      <th>12</th>\n",
       "      <td>in</td>\n",
       "      <td>2441945</td>\n",
       "    </tr>\n",
       "    <tr>\n",
       "      <th>13</th>\n",
       "      <td>with</td>\n",
       "      <td>2262595</td>\n",
       "    </tr>\n",
       "    <tr>\n",
       "      <th>14</th>\n",
       "      <td>his</td>\n",
       "      <td>2105594</td>\n",
       "    </tr>\n",
       "    <tr>\n",
       "      <th>15</th>\n",
       "      <td>her</td>\n",
       "      <td>1983911</td>\n",
       "    </tr>\n",
       "    <tr>\n",
       "      <th>16</th>\n",
       "      <td>big</td>\n",
       "      <td>1943552</td>\n",
       "    </tr>\n",
       "    <tr>\n",
       "      <th>17</th>\n",
       "      <td>had</td>\n",
       "      <td>1689655</td>\n",
       "    </tr>\n",
       "    <tr>\n",
       "      <th>18</th>\n",
       "      <td>one</td>\n",
       "      <td>1687757</td>\n",
       "    </tr>\n",
       "    <tr>\n",
       "      <th>19</th>\n",
       "      <td>tim</td>\n",
       "      <td>1654440</td>\n",
       "    </tr>\n",
       "  </tbody>\n",
       "</table>\n",
       "</div>"
      ],
      "text/plain": [
       "   Character  Frequency\n",
       "0          .   21637643\n",
       "1        the   13026562\n",
       "2        and    9573623\n",
       "3          a    8937078\n",
       "4          ,    8350439\n",
       "5         to    7517841\n",
       "6        was    5975410\n",
       "7       they    4916225\n",
       "8         he    4269702\n",
       "9         it    3083743\n",
       "10       she    3036916\n",
       "11       day    2512770\n",
       "12        in    2441945\n",
       "13      with    2262595\n",
       "14       his    2105594\n",
       "15       her    1983911\n",
       "16       big    1943552\n",
       "17       had    1689655\n",
       "18       one    1687757\n",
       "19       tim    1654440"
      ]
     },
     "execution_count": 4,
     "metadata": {},
     "output_type": "execute_result"
    }
   ],
   "source": [
    "import pandas as pd\n",
    "\n",
    "# Convert the word_freq counter to a DataFrame\n",
    "df_word_freq = pd.DataFrame.from_dict(word_freq, orient='index', columns=['Frequency'])\n",
    "\n",
    "# Sort the DataFrame by frequency in descending order\n",
    "df_word_freq = df_word_freq.sort_values(by='Frequency', ascending=False)\n",
    "\n",
    "# Reset the index to bring the keys of the dictionary (currently the index) as a column\n",
    "df_word_freq = df_word_freq.reset_index()\n",
    "\n",
    "# Rename the columns to 'Character' and 'Frequency'\n",
    "df_word_freq.columns = ['Character', 'Frequency']\n",
    "\n",
    "# Display the updated DataFrame\n",
    "df_word_freq.head(20)"
   ]
  },
  {
   "cell_type": "code",
   "execution_count": 5,
   "metadata": {},
   "outputs": [
    {
     "data": {
      "text/html": [
       "<div>\n",
       "<style scoped>\n",
       "    .dataframe tbody tr th:only-of-type {\n",
       "        vertical-align: middle;\n",
       "    }\n",
       "\n",
       "    .dataframe tbody tr th {\n",
       "        vertical-align: top;\n",
       "    }\n",
       "\n",
       "    .dataframe thead th {\n",
       "        text-align: right;\n",
       "    }\n",
       "</style>\n",
       "<table border=\"1\" class=\"dataframe\">\n",
       "  <thead>\n",
       "    <tr style=\"text-align: right;\">\n",
       "      <th></th>\n",
       "      <th>Character</th>\n",
       "      <th>Frequency</th>\n",
       "    </tr>\n",
       "  </thead>\n",
       "  <tbody>\n",
       "    <tr>\n",
       "      <th>28412</th>\n",
       "      <td>league</td>\n",
       "      <td>1</td>\n",
       "    </tr>\n",
       "    <tr>\n",
       "      <th>28413</th>\n",
       "      <td>prima</td>\n",
       "      <td>1</td>\n",
       "    </tr>\n",
       "    <tr>\n",
       "      <th>28414</th>\n",
       "      <td>rating</td>\n",
       "      <td>1</td>\n",
       "    </tr>\n",
       "    <tr>\n",
       "      <th>28415</th>\n",
       "      <td>badboy</td>\n",
       "      <td>1</td>\n",
       "    </tr>\n",
       "    <tr>\n",
       "      <th>28416</th>\n",
       "      <td>saviours</td>\n",
       "      <td>1</td>\n",
       "    </tr>\n",
       "    <tr>\n",
       "      <th>28417</th>\n",
       "      <td>redecorating</td>\n",
       "      <td>1</td>\n",
       "    </tr>\n",
       "    <tr>\n",
       "      <th>28418</th>\n",
       "      <td>resounding</td>\n",
       "      <td>1</td>\n",
       "    </tr>\n",
       "    <tr>\n",
       "      <th>28419</th>\n",
       "      <td>jungleland</td>\n",
       "      <td>1</td>\n",
       "    </tr>\n",
       "    <tr>\n",
       "      <th>28420</th>\n",
       "      <td>mis</td>\n",
       "      <td>1</td>\n",
       "    </tr>\n",
       "    <tr>\n",
       "      <th>28421</th>\n",
       "      <td>wrinkliest</td>\n",
       "      <td>1</td>\n",
       "    </tr>\n",
       "    <tr>\n",
       "      <th>28422</th>\n",
       "      <td>murkier</td>\n",
       "      <td>1</td>\n",
       "    </tr>\n",
       "    <tr>\n",
       "      <th>28423</th>\n",
       "      <td>strikerry</td>\n",
       "      <td>1</td>\n",
       "    </tr>\n",
       "    <tr>\n",
       "      <th>28424</th>\n",
       "      <td>tousling</td>\n",
       "      <td>1</td>\n",
       "    </tr>\n",
       "    <tr>\n",
       "      <th>28425</th>\n",
       "      <td>outspread</td>\n",
       "      <td>1</td>\n",
       "    </tr>\n",
       "    <tr>\n",
       "      <th>28426</th>\n",
       "      <td>readable</td>\n",
       "      <td>1</td>\n",
       "    </tr>\n",
       "    <tr>\n",
       "      <th>28427</th>\n",
       "      <td>naivete</td>\n",
       "      <td>1</td>\n",
       "    </tr>\n",
       "    <tr>\n",
       "      <th>28428</th>\n",
       "      <td>tabatha</td>\n",
       "      <td>1</td>\n",
       "    </tr>\n",
       "    <tr>\n",
       "      <th>28429</th>\n",
       "      <td>ballpark</td>\n",
       "      <td>1</td>\n",
       "    </tr>\n",
       "    <tr>\n",
       "      <th>28430</th>\n",
       "      <td>sorrry</td>\n",
       "      <td>1</td>\n",
       "    </tr>\n",
       "    <tr>\n",
       "      <th>28431</th>\n",
       "      <td>everyon</td>\n",
       "      <td>1</td>\n",
       "    </tr>\n",
       "  </tbody>\n",
       "</table>\n",
       "</div>"
      ],
      "text/plain": [
       "          Character  Frequency\n",
       "28412        league          1\n",
       "28413         prima          1\n",
       "28414        rating          1\n",
       "28415        badboy          1\n",
       "28416      saviours          1\n",
       "28417  redecorating          1\n",
       "28418    resounding          1\n",
       "28419    jungleland          1\n",
       "28420           mis          1\n",
       "28421    wrinkliest          1\n",
       "28422       murkier          1\n",
       "28423     strikerry          1\n",
       "28424      tousling          1\n",
       "28425     outspread          1\n",
       "28426      readable          1\n",
       "28427       naivete          1\n",
       "28428       tabatha          1\n",
       "28429      ballpark          1\n",
       "28430        sorrry          1\n",
       "28431       everyon          1"
      ]
     },
     "execution_count": 5,
     "metadata": {},
     "output_type": "execute_result"
    }
   ],
   "source": [
    "df_word_freq.tail(20)"
   ]
  },
  {
   "cell_type": "code",
   "execution_count": null,
   "metadata": {},
   "outputs": [
    {
     "ename": "AssertionError",
     "evalue": "There are ties in the ranks",
     "output_type": "error",
     "traceback": [
      "\u001b[0;31m---------------------------------------------------------------------------\u001b[0m",
      "\u001b[0;31mAssertionError\u001b[0m                            Traceback (most recent call last)",
      "Cell \u001b[0;32mIn[7], line 5\u001b[0m\n\u001b[1;32m      2\u001b[0m df_word_freq[\u001b[38;5;124m'\u001b[39m\u001b[38;5;124mRank\u001b[39m\u001b[38;5;124m'\u001b[39m] \u001b[38;5;241m=\u001b[39m df_word_freq[\u001b[38;5;124m'\u001b[39m\u001b[38;5;124mFrequency\u001b[39m\u001b[38;5;124m'\u001b[39m]\u001b[38;5;241m.\u001b[39mrank(ascending\u001b[38;5;241m=\u001b[39m\u001b[38;5;28;01mFalse\u001b[39;00m, method\u001b[38;5;241m=\u001b[39m\u001b[38;5;124m'\u001b[39m\u001b[38;5;124mdense\u001b[39m\u001b[38;5;124m'\u001b[39m)\u001b[38;5;241m.\u001b[39mastype(\u001b[38;5;28mint\u001b[39m)\n\u001b[1;32m      4\u001b[0m \u001b[38;5;66;03m# Assert that there are no ties in the ranks\u001b[39;00m\n\u001b[0;32m----> 5\u001b[0m \u001b[38;5;28;01massert\u001b[39;00m df_word_freq[\u001b[38;5;124m'\u001b[39m\u001b[38;5;124mRank\u001b[39m\u001b[38;5;124m'\u001b[39m]\u001b[38;5;241m.\u001b[39mnunique() \u001b[38;5;241m==\u001b[39m \u001b[38;5;28mlen\u001b[39m(df_word_freq), \u001b[38;5;124m\"\u001b[39m\u001b[38;5;124mThere are ties in the ranks\u001b[39m\u001b[38;5;124m\"\u001b[39m\n\u001b[1;32m      7\u001b[0m \u001b[38;5;66;03m# Display the updated DataFrame\u001b[39;00m\n\u001b[1;32m      8\u001b[0m df_word_freq\u001b[38;5;241m.\u001b[39mhead(\u001b[38;5;241m20\u001b[39m)\n",
      "\u001b[0;31mAssertionError\u001b[0m: There are ties in the ranks"
     ]
    }
   ],
   "source": [
    "# Add a column for the rank of the character by frequency\n",
    "# NOTE: ties are possible using method dense (consecutive integers, ties share same rank)\n",
    "df_word_freq['Rank'] = df_word_freq['Frequency'].rank(ascending=False, method='dense').astype(int)\n",
    "\n",
    "# Assert that there are no ties in the ranks\n",
    "# assert df_word_freq['Rank'].nunique() == len(df_word_freq), \"There are ties in the ranks\"\n",
    "\n",
    "# Display the updated DataFrame\n",
    "df_word_freq.head(20)"
   ]
  },
  {
   "cell_type": "code",
   "execution_count": 13,
   "metadata": {},
   "outputs": [
    {
     "data": {
      "text/html": [
       "<div>\n",
       "<style scoped>\n",
       "    .dataframe tbody tr th:only-of-type {\n",
       "        vertical-align: middle;\n",
       "    }\n",
       "\n",
       "    .dataframe tbody tr th {\n",
       "        vertical-align: top;\n",
       "    }\n",
       "\n",
       "    .dataframe thead th {\n",
       "        text-align: right;\n",
       "    }\n",
       "</style>\n",
       "<table border=\"1\" class=\"dataframe\">\n",
       "  <thead>\n",
       "    <tr style=\"text-align: right;\">\n",
       "      <th></th>\n",
       "      <th>Character</th>\n",
       "      <th>Frequency</th>\n",
       "      <th>Rank</th>\n",
       "    </tr>\n",
       "  </thead>\n",
       "  <tbody>\n",
       "    <tr>\n",
       "      <th>0</th>\n",
       "      <td>.</td>\n",
       "      <td>21637643</td>\n",
       "      <td>1</td>\n",
       "    </tr>\n",
       "    <tr>\n",
       "      <th>1</th>\n",
       "      <td>the</td>\n",
       "      <td>13026562</td>\n",
       "      <td>2</td>\n",
       "    </tr>\n",
       "    <tr>\n",
       "      <th>2</th>\n",
       "      <td>and</td>\n",
       "      <td>9573623</td>\n",
       "      <td>3</td>\n",
       "    </tr>\n",
       "    <tr>\n",
       "      <th>3</th>\n",
       "      <td>a</td>\n",
       "      <td>8937078</td>\n",
       "      <td>4</td>\n",
       "    </tr>\n",
       "    <tr>\n",
       "      <th>4</th>\n",
       "      <td>,</td>\n",
       "      <td>8350439</td>\n",
       "      <td>5</td>\n",
       "    </tr>\n",
       "    <tr>\n",
       "      <th>5</th>\n",
       "      <td>to</td>\n",
       "      <td>7517841</td>\n",
       "      <td>6</td>\n",
       "    </tr>\n",
       "    <tr>\n",
       "      <th>6</th>\n",
       "      <td>was</td>\n",
       "      <td>5975410</td>\n",
       "      <td>7</td>\n",
       "    </tr>\n",
       "    <tr>\n",
       "      <th>7</th>\n",
       "      <td>they</td>\n",
       "      <td>4916225</td>\n",
       "      <td>8</td>\n",
       "    </tr>\n",
       "    <tr>\n",
       "      <th>8</th>\n",
       "      <td>he</td>\n",
       "      <td>4269702</td>\n",
       "      <td>9</td>\n",
       "    </tr>\n",
       "    <tr>\n",
       "      <th>9</th>\n",
       "      <td>it</td>\n",
       "      <td>3083743</td>\n",
       "      <td>10</td>\n",
       "    </tr>\n",
       "    <tr>\n",
       "      <th>10</th>\n",
       "      <td>she</td>\n",
       "      <td>3036916</td>\n",
       "      <td>11</td>\n",
       "    </tr>\n",
       "    <tr>\n",
       "      <th>11</th>\n",
       "      <td>day</td>\n",
       "      <td>2512770</td>\n",
       "      <td>12</td>\n",
       "    </tr>\n",
       "    <tr>\n",
       "      <th>12</th>\n",
       "      <td>in</td>\n",
       "      <td>2441945</td>\n",
       "      <td>13</td>\n",
       "    </tr>\n",
       "    <tr>\n",
       "      <th>13</th>\n",
       "      <td>with</td>\n",
       "      <td>2262595</td>\n",
       "      <td>14</td>\n",
       "    </tr>\n",
       "    <tr>\n",
       "      <th>14</th>\n",
       "      <td>his</td>\n",
       "      <td>2105594</td>\n",
       "      <td>15</td>\n",
       "    </tr>\n",
       "    <tr>\n",
       "      <th>15</th>\n",
       "      <td>her</td>\n",
       "      <td>1983911</td>\n",
       "      <td>16</td>\n",
       "    </tr>\n",
       "    <tr>\n",
       "      <th>16</th>\n",
       "      <td>big</td>\n",
       "      <td>1943552</td>\n",
       "      <td>17</td>\n",
       "    </tr>\n",
       "    <tr>\n",
       "      <th>17</th>\n",
       "      <td>had</td>\n",
       "      <td>1689655</td>\n",
       "      <td>18</td>\n",
       "    </tr>\n",
       "    <tr>\n",
       "      <th>18</th>\n",
       "      <td>one</td>\n",
       "      <td>1687757</td>\n",
       "      <td>19</td>\n",
       "    </tr>\n",
       "    <tr>\n",
       "      <th>19</th>\n",
       "      <td>tim</td>\n",
       "      <td>1654440</td>\n",
       "      <td>20</td>\n",
       "    </tr>\n",
       "  </tbody>\n",
       "</table>\n",
       "</div>"
      ],
      "text/plain": [
       "   Character  Frequency  Rank\n",
       "0          .   21637643     1\n",
       "1        the   13026562     2\n",
       "2        and    9573623     3\n",
       "3          a    8937078     4\n",
       "4          ,    8350439     5\n",
       "5         to    7517841     6\n",
       "6        was    5975410     7\n",
       "7       they    4916225     8\n",
       "8         he    4269702     9\n",
       "9         it    3083743    10\n",
       "10       she    3036916    11\n",
       "11       day    2512770    12\n",
       "12        in    2441945    13\n",
       "13      with    2262595    14\n",
       "14       his    2105594    15\n",
       "15       her    1983911    16\n",
       "16       big    1943552    17\n",
       "17       had    1689655    18\n",
       "18       one    1687757    19\n",
       "19       tim    1654440    20"
      ]
     },
     "execution_count": 13,
     "metadata": {},
     "output_type": "execute_result"
    }
   ],
   "source": [
    "df_word_freq.head(20)"
   ]
  },
  {
   "cell_type": "code",
   "execution_count": 17,
   "metadata": {},
   "outputs": [
    {
     "data": {
      "image/png": "[encoded data removed]",
      "text/plain": [
       "<Figure size 1000x600 with 1 Axes>"
      ]
     },
     "metadata": {},
     "output_type": "display_data"
    }
   ],
   "source": [
    "import matplotlib.pyplot as plt\n",
    "\n",
    "# Plot the histogram of word frequency with log scale on y-axis\n",
    "plt.figure(figsize=(10, 6))\n",
    "plt.hist(df_word_freq['Frequency'], bins=50, edgecolor='black')\n",
    "plt.yscale('log')\n",
    "plt.xlabel('Frequency')\n",
    "plt.ylabel('Number of Words')\n",
    "plt.title('Histogram of Word Frequency')\n",
    "plt.grid(True)\n",
    "plt.show()"
   ]
  },
  {
   "cell_type": "code",
   "execution_count": null,
   "metadata": {},
   "outputs": [
    {
     "data": {
      "text/plain": [
       "4113"
      ]
     },
     "execution_count": 8,
     "metadata": {},
     "output_type": "execute_result"
    }
   ],
   "source": [
    "# number of words with unique rank\n",
    "df_word_freq['Rank'].nunique()"
   ]
  },
  {
   "cell_type": "code",
   "execution_count": 9,
   "metadata": {},
   "outputs": [
    {
     "data": {
      "text/plain": [
       "28432"
      ]
     },
     "execution_count": 9,
     "metadata": {},
     "output_type": "execute_result"
    }
   ],
   "source": [
    "len(df_word_freq)"
   ]
  },
  {
   "cell_type": "code",
   "execution_count": 15,
   "metadata": {},
   "outputs": [],
   "source": [
    "df_word_freq.to_csv(\"/n/netscratch/sham_lab/Everyone/jchooi/in-context-language-learning/data/TinyStories-word-freq.csv\")"
   ]
  },
  {
   "cell_type": "code",
   "execution_count": 7,
   "metadata": {},
   "outputs": [
    {
     "name": "stdout",
     "output_type": "stream",
     "text": [
      "[',']\n"
     ]
    }
   ],
   "source": [
    "sticked_comma_words = []\n",
    "\n",
    "for c in df_word_freq[\"Character\"]:\n",
    "    if \",\" in c:\n",
    "        sticked_comma_words.append(c)\n",
    "\n",
    "print(sticked_comma_words)"
   ]
  },
  {
   "cell_type": "code",
   "execution_count": 8,
   "metadata": {},
   "outputs": [
    {
     "name": "stdout",
     "output_type": "stream",
     "text": [
      "['.']\n"
     ]
    }
   ],
   "source": [
    "sticked_period_words = []\n",
    "\n",
    "for c in df_word_freq[\"Character\"]:\n",
    "    if \".\" in c:\n",
    "        sticked_period_words.append(c)\n",
    "\n",
    "print(sticked_period_words)"
   ]
  },
  {
   "cell_type": "code",
   "execution_count": 9,
   "metadata": {},
   "outputs": [
    {
     "data": {
      "text/plain": [
       "{'.': 0,\n",
       " 'the': 1,\n",
       " 'and': 2,\n",
       " 'a': 3,\n",
       " ',': 4,\n",
       " 'to': 5,\n",
       " 'was': 6,\n",
       " 'they': 7,\n",
       " 'he': 8,\n",
       " 'it': 9}"
      ]
     },
     "execution_count": 9,
     "metadata": {},
     "output_type": "execute_result"
    }
   ],
   "source": [
    "# Create a dictionary that maps each word to its rank\n",
    "word_rank = {row['Character']: rank for rank, row in df_word_freq.iterrows()}\n",
    "\n",
    "# Display the first 10 items in the dictionary\n",
    "dict(list(word_rank.items())[:10])"
   ]
  },
  {
   "cell_type": "code",
   "execution_count": null,
   "metadata": {},
   "outputs": [],
   "source": [
    "# ignore the squiggle\n",
    "word_rank = {str(key): int(value) for key, value in word_rank.items()}"
   ]
  },
  {
   "cell_type": "code",
   "execution_count": 12,
   "metadata": {},
   "outputs": [
    {
     "name": "stderr",
     "output_type": "stream",
     "text": [
      "100%|█████████▉| 1042110478/1042422768 [00:52<00:00, 19833017.76it/s]"
     ]
    },
    {
     "name": "stderr",
     "output_type": "stream",
     "text": [
      "100%|██████████| 1042422768/1042422768 [01:06<00:00, 19833017.76it/s]"
     ]
    }
   ],
   "source": [
    "worst_ranks = []\n",
    "\n",
    "# Open the input file again to read sentences\n",
    "with open(input_file, 'r') as file:\n",
    "    pbar = tqdm(total=file_size, desc=\"Processing lines\", unit=\"B\", unit_scale=True, unit_divisor=1024)\n",
    "    for line in file:\n",
    "        words = line.split()\n",
    "        # Filter out words that are not in the word_rank dictionary\n",
    "        worst_rank = max([int(word_rank[word]) for word in words])\n",
    "        worst_ranks.append(worst_rank)\n",
    "        pbar.update(len(line.encode(\"utf-8\")))"
   ]
  },
  {
   "cell_type": "code",
   "execution_count": 13,
   "metadata": {},
   "outputs": [],
   "source": [
    "sorted_worst_ranks = sorted(worst_ranks)"
   ]
  },
  {
   "cell_type": "code",
   "execution_count": 15,
   "metadata": {},
   "outputs": [
    {
     "name": "stderr",
     "output_type": "stream",
     "text": [
      "100%|██████████| 21637643/21637643 [00:03<00:00, 5904685.23it/s]\n"
     ]
    }
   ],
   "source": [
    "total = 0\n",
    "rank_count = dict()\n",
    "\n",
    "for rank in tqdm(sorted_worst_ranks):\n",
    "    total += 1\n",
    "    rank_count[rank] = total"
   ]
  },
  {
   "cell_type": "code",
   "execution_count": null,
   "metadata": {},
   "outputs": [
    {
     "data": {
      "image/png": "[encoded data removed]",
      "text/plain": [
       "<Figure size 1000x600 with 1 Axes>"
      ]
     },
     "metadata": {},
     "output_type": "display_data"
    }
   ],
   "source": [
    "import matplotlib.pyplot as plt\n",
    "\n",
    "# Extract keys and values from rank_count dictionary\n",
    "keys = list(rank_count.keys())\n",
    "values = list(rank_count.values())\n",
    "\n",
    "# Plot the data\n",
    "plt.figure(figsize=(10, 6))\n",
    "plt.plot(keys, values)\n",
    "plt.xlabel('Number of words used')\n",
    "plt.ylabel('Count of sentences')\n",
    "plt.title('Number of sentences available if we use X number of words')\n",
    "plt.grid(True)\n",
    "plt.show()"
   ]
  },
  {
   "cell_type": "code",
   "execution_count": 22,
   "metadata": {},
   "outputs": [
    {
     "data": {
      "image/png": "[encoded data removed]",
      "text/plain": [
       "<Figure size 1000x600 with 1 Axes>"
      ]
     },
     "metadata": {},
     "output_type": "display_data"
    }
   ],
   "source": [
    "num_sentences = len(worst_ranks)\n",
    "prop_sentences = [k/num_sentences for k in values]\n",
    "\n",
    "# Plot the data\n",
    "plt.figure(figsize=(10, 6))\n",
    "plt.plot(keys, prop_sentences)\n",
    "plt.xlabel('Number of words used')\n",
    "plt.ylabel('Proportion of sentences')\n",
    "plt.title('Proportion of sentences available if we use X number of words')\n",
    "plt.grid(True)\n",
    "plt.show()"
   ]
  },
  {
   "cell_type": "code",
   "execution_count": 23,
   "metadata": {},
   "outputs": [
    {
     "data": {
      "image/png": "[encoded data removed]",
      "text/plain": [
       "<Figure size 1000x600 with 1 Axes>"
      ]
     },
     "metadata": {},
     "output_type": "display_data"
    }
   ],
   "source": [
    "num_sentences = len(worst_ranks)\n",
    "prop_sentences = [k/num_sentences for k in values]\n",
    "\n",
    "# Plot the data\n",
    "plt.figure(figsize=(10, 6))\n",
    "plt.plot(keys, prop_sentences)\n",
    "plt.xlabel('Number of words used')\n",
    "plt.ylabel('Proportion of sentences')\n",
    "plt.title('Proportion of sentences available if we use X number of words')\n",
    "plt.xlim(0,5000)\n",
    "plt.grid(True)\n",
    "plt.show()"
   ]
  },
  {
   "cell_type": "code",
   "execution_count": 25,
   "metadata": {},
   "outputs": [
    {
     "data": {
      "image/png": "[encoded data removed]",
      "text/plain": [
       "<Figure size 1000x600 with 1 Axes>"
      ]
     },
     "metadata": {},
     "output_type": "display_data"
    }
   ],
   "source": [
    "plt.figure(figsize=(10, 6))\n",
    "plt.plot(keys, values)\n",
    "plt.xlabel('Number of words used')\n",
    "plt.ylabel('Count of sentences')\n",
    "plt.title('Number of sentences available if we use X number of words')\n",
    "plt.xlim(0,1000)\n",
    "plt.ylim(0,1.5e7)\n",
    "plt.grid(True)\n",
    "plt.show()"
   ]
  },
  {
   "cell_type": "code",
   "execution_count": 27,
   "metadata": {},
   "outputs": [
    {
     "data": {
      "image/png": "[encoded data removed]",
      "text/plain": [
       "<Figure size 1000x600 with 1 Axes>"
      ]
     },
     "metadata": {},
     "output_type": "display_data"
    }
   ],
   "source": [
    "plt.figure(figsize=(10, 6))\n",
    "plt.plot(keys, values)\n",
    "plt.xlabel('Number of words used')\n",
    "plt.ylabel('Count of sentences')\n",
    "plt.title('Number of sentences available if we use X number of words')\n",
    "plt.xlim(0,500)\n",
    "plt.ylim(0,1e7)\n",
    "plt.grid(True)\n",
    "plt.show()"
   ]
  },
  {
   "cell_type": "markdown",
   "metadata": {},
   "source": [
    "We will create datasets for sentences that use the most frequent 100, 200, 300, 400 and 500 words."
   ]
  },
  {
   "cell_type": "code",
   "execution_count": null,
   "metadata": {},
   "outputs": [
    {
     "name": "stderr",
     "output_type": "stream",
     "text": [
      "100%|██████████| 1042422768/1042422768 [16:14<00:00, 1069534.74it/s] \n"
     ]
    },
    {
     "data": {
      "text/plain": [
       "['one day , a little boy named tim went to the park .',\n",
       " 'they were very happy .',\n",
       " 'one day , a boy named tim went to the park to play .',\n",
       " 'one day , a little boy named tim went to the park with his mom .',\n",
       " 'he had a dog named spot .',\n",
       " 'they saw a big bird in a tree .',\n",
       " 'then , they went back to their small house .',\n",
       " 'they were happy to be together .',\n",
       " 'one day , tim went to the park to play with his friends .',\n",
       " 'she loved to play in it .']"
      ]
     },
     "execution_count": 28,
     "metadata": {},
     "output_type": "execute_result"
    },
    {
     "name": "stderr",
     "output_type": "stream",
     "text": []
    }
   ],
   "source": [
    "# Initialize an empty list to store the sentences\n",
    "filtered_sentences = []\n",
    "\n",
    "# Open the input file again to read sentences\n",
    "with open(input_file, 'r') as file:\n",
    "    pbar = tqdm(total=file_size, desc=\"Processing lines\", unit=\"B\", unit_scale=True, unit_divisor=1024)\n",
    "    \n",
    "    for i, line in enumerate(file):\n",
    "        if worst_ranks[i] <= 100:\n",
    "            filtered_sentences.append(line.strip())\n",
    "        pbar.update(len(line.encode(\"utf-8\")))\n",
    "\n",
    "# Display the first 10 filtered sentences\n",
    "filtered_sentences[:10]"
   ]
  },
  {
   "cell_type": "code",
   "execution_count": null,
   "metadata": {},
   "outputs": [
    {
     "data": {
      "text/plain": [
       "1071376"
      ]
     },
     "execution_count": 29,
     "metadata": {},
     "output_type": "execute_result"
    }
   ],
   "source": [
    "# number of such sentences: around 1 million\n",
    "len(filtered_sentences)"
   ]
  },
  {
   "cell_type": "code",
   "execution_count": null,
   "metadata": {},
   "outputs": [
    {
     "data": {
      "text/plain": [
       "1014747"
      ]
     },
     "execution_count": 63,
     "metadata": {},
     "output_type": "execute_result"
    }
   ],
   "source": [
    "import hashlib\n",
    "\n",
    "def get_duplicates(filtered_sentences):\n",
    "    # Generate hash values for all sentences\n",
    "    hashes = [hash(sentence) for sentence in filtered_sentences]\n",
    "\n",
    "    # Use a dictionary to count occurrences of each hash\n",
    "    hash_count = {}\n",
    "    for h in hashes:\n",
    "        if h in hash_count:\n",
    "            hash_count[h] += 1\n",
    "        else:\n",
    "            hash_count[h] = 1\n",
    "\n",
    "    # Find duplicates by checking counts in the dictionary\n",
    "    duplicates = [sentence for sentence, h in zip(filtered_sentences, hashes) if hash_count[h] > 1]\n",
    "    \n",
    "    return duplicates\n",
    "\n",
    "duplicates = get_duplicates(filtered_sentences)\n",
    "# Print the unique duplicates\n",
    "len(duplicates)"
   ]
  },
  {
   "cell_type": "code",
   "execution_count": 64,
   "metadata": {},
   "outputs": [
    {
     "data": {
      "text/plain": [
       "'94.71%'"
      ]
     },
     "execution_count": 64,
     "metadata": {},
     "output_type": "execute_result"
    }
   ],
   "source": [
    "# proportion of duplicates\n",
    "str(round(len(duplicates)/len(filtered_sentences)*100,2))+'%'"
   ]
  },
  {
   "cell_type": "code",
   "execution_count": 56,
   "metadata": {},
   "outputs": [
    {
     "data": {
      "text/plain": [
       "['sue went to the park and saw her friend , tom .',\n",
       " 'once , there was a boy named tom .',\n",
       " 'they wanted to play with the dog and the ball .',\n",
       " 'tim and his mom had a fun day together .',\n",
       " 'she looked at ben and saw that he was sad too .',\n",
       " 'he is on the tree .',\n",
       " 'it was a fun day at the park .',\n",
       " 'the tree is happy .',\n",
       " 'the big dog was playing with a ball .',\n",
       " 'it is their friend max .']"
      ]
     },
     "execution_count": 56,
     "metadata": {},
     "output_type": "execute_result"
    }
   ],
   "source": [
    "import random\n",
    "\n",
    "random.choices(unique_duplicates, k=10)"
   ]
  },
  {
   "cell_type": "code",
   "execution_count": null,
   "metadata": {},
   "outputs": [
    {
     "name": "stderr",
     "output_type": "stream",
     "text": [
      "\n",
      "Processing lines: 100%|██████████| 994M/994M [00:53<00:00, 19.4MB/s]\n",
      "\n",
      "\u001b[A\n",
      "\u001b[A\n",
      "\u001b[A\n",
      "\u001b[A\n",
      "\u001b[A\n",
      "\u001b[A\n",
      "\u001b[A\n",
      "\u001b[A\n",
      "\u001b[A\n",
      "\u001b[A\n",
      "\u001b[A\n",
      "\u001b[A\n",
      "\u001b[A\n",
      "\u001b[A\n",
      "\u001b[A\n",
      "\u001b[A\n",
      "\u001b[A\n",
      "\u001b[A\n",
      "\u001b[A\n",
      "\u001b[A\n",
      "\u001b[A\n",
      "\u001b[A\n",
      "\u001b[A\n",
      "\u001b[A\n",
      "\u001b[A\n",
      "\u001b[A\n",
      "\u001b[A\n",
      "\u001b[A\n",
      "\u001b[A\n",
      "\u001b[A\n",
      "\u001b[A\n",
      "\u001b[A\n",
      "\u001b[A\n",
      "\u001b[A\n",
      "\u001b[A\n",
      "\u001b[A\n",
      "\u001b[A\n",
      "\u001b[A\n",
      "\u001b[A\n",
      "\u001b[A\n",
      "\u001b[A\n",
      "\u001b[A\n",
      "\u001b[A\n",
      "\u001b[A\n",
      "\u001b[A\n",
      "\u001b[A\n",
      "\u001b[A\n",
      "\u001b[A\n",
      "\u001b[A\n",
      "\u001b[A\n",
      "\u001b[A\n",
      "\u001b[A\n",
      "\u001b[A\n",
      "\u001b[A\n",
      "\u001b[A\n",
      "\u001b[A\n",
      "\u001b[A\n",
      "\u001b[A\n",
      "\u001b[A\n",
      "\u001b[A\n",
      "\u001b[A\n",
      "\u001b[A\n",
      "\u001b[A\n",
      "\u001b[A\n",
      "\u001b[A\n",
      "\u001b[A\n",
      "\u001b[A\n",
      "\u001b[A\n",
      "\u001b[A\n",
      "\u001b[A\n",
      "\u001b[A\n",
      "\u001b[A\n",
      "\u001b[A\n",
      "\u001b[A\n",
      "\u001b[A\n",
      "\u001b[A\n",
      "\u001b[A\n",
      "\u001b[A\n",
      "\u001b[A\n",
      "\u001b[A\n",
      "\u001b[A\n",
      "\u001b[A\n",
      "\u001b[A\n",
      "\u001b[A\n",
      "\u001b[A\n",
      "\u001b[A\n",
      "\u001b[A\n",
      "Processing lines: 100%|██████████| 994M/994M [00:09<00:00, 111MB/s]\n",
      "\n",
      "Processing lines: 100%|██████████| 994M/994M [00:10<00:00, 98.7MB/s]\n",
      "\n",
      "\u001b[A\n",
      "\u001b[A\n",
      "\u001b[A\n",
      "\u001b[A\n",
      "\u001b[A\n",
      "\u001b[A\n",
      "\u001b[A\n",
      "\u001b[A\n",
      "\u001b[A\n",
      "\u001b[A\n",
      "\u001b[A\n",
      "\u001b[A\n",
      "\u001b[A\n",
      "\u001b[A\n",
      "\u001b[A\n",
      "\u001b[A\n",
      "\u001b[A\n",
      "\u001b[A\n",
      "\u001b[A\n",
      "\u001b[A\n",
      "\u001b[A\n",
      "\u001b[A\n",
      "\u001b[A\n",
      "\u001b[A\n",
      "\u001b[A\n",
      "\u001b[A\n",
      "\u001b[A\n",
      "\u001b[A\n",
      "\u001b[A\n",
      "\u001b[A\n",
      "\u001b[A\n",
      "\u001b[A\n",
      "\u001b[A\n",
      "\u001b[A\n",
      "\u001b[A\n",
      "\u001b[A\n",
      "\u001b[A\n",
      "\u001b[A\n",
      "\u001b[A\n",
      "\u001b[A\n",
      "\u001b[A\n",
      "\u001b[A\n",
      "\u001b[A\n",
      "\u001b[A\n",
      "\u001b[A\n",
      "\u001b[A\n",
      "\u001b[A\n",
      "\u001b[A\n",
      "\u001b[A\n",
      "\u001b[A\n",
      "\u001b[A\n",
      "\u001b[A\n",
      "\u001b[A\n",
      "\u001b[A\n",
      "\u001b[A\n",
      "\u001b[A\n",
      "\u001b[A\n",
      "\u001b[A\n",
      "\u001b[A\n",
      "\u001b[A\n",
      "\u001b[A\n",
      "\u001b[A\n",
      "\u001b[A\n",
      "\u001b[A\n",
      "\u001b[A\n",
      "\u001b[A\n",
      "\u001b[A\n",
      "\u001b[A\n",
      "\u001b[A\n",
      "\u001b[A\n",
      "\u001b[A\n",
      "\u001b[A\n",
      "\u001b[A\n",
      "\u001b[A\n",
      "\u001b[A\n",
      "\u001b[A\n",
      "\u001b[A\n",
      "\u001b[A\n",
      "\u001b[A\n",
      "\u001b[A\n",
      "\u001b[A\n",
      "\u001b[A\n",
      "\u001b[A\n",
      "\u001b[A\n",
      "\u001b[A\n",
      "\u001b[A\n",
      "\u001b[A\n",
      "\u001b[A\n",
      "\u001b[A\n",
      "\u001b[A\n",
      "\u001b[A\n",
      "Processing lines: 100%|██████████| 994M/994M [00:11<00:00, 90.5MB/s]\n",
      "\n",
      "Processing lines: 100%|██████████| 994M/994M [00:12<00:00, 82.0MB/s]\n",
      "\n",
      "\u001b[A\n",
      "\u001b[A\n",
      "\u001b[A\n",
      "\u001b[A\n",
      "\u001b[A\n",
      "\u001b[A\n",
      "\u001b[A\n",
      "\u001b[A\n",
      "\u001b[A\n",
      "\u001b[A\n",
      "\u001b[A\n",
      "\u001b[A\n",
      "\u001b[A\n",
      "\u001b[A\n",
      "\u001b[A\n",
      "\u001b[A\n",
      "\u001b[A\n",
      "\u001b[A\n",
      "\u001b[A\n",
      "\u001b[A\n",
      "\u001b[A\n",
      "\u001b[A\n",
      "\u001b[A\n",
      "\u001b[A\n",
      "\u001b[A\n",
      "\u001b[A\n",
      "\u001b[A\n",
      "\u001b[A\n",
      "\u001b[A\n",
      "\u001b[A\n",
      "\u001b[A\n",
      "\u001b[A\n",
      "\u001b[A\n",
      "\u001b[A\n",
      "\u001b[A\n",
      "\u001b[A\n",
      "\u001b[A\n",
      "\u001b[A\n",
      "\u001b[A\n",
      "\u001b[A\n",
      "\u001b[A\n",
      "\u001b[A\n",
      "\u001b[A\n",
      "\u001b[A\n",
      "\u001b[A\n",
      "\u001b[A\n",
      "\u001b[A\n",
      "\u001b[A\n",
      "\u001b[A\n",
      "\u001b[A\n",
      "\u001b[A\n",
      "\u001b[A\n",
      "\u001b[A\n",
      "\u001b[A\n",
      "\u001b[A\n",
      "\u001b[A\n",
      "\u001b[A\n",
      "\u001b[A\n",
      "\u001b[A\n",
      "\u001b[A\n",
      "\u001b[A\n",
      "\u001b[A\n",
      "\u001b[A\n",
      "\u001b[A\n",
      "\u001b[A\n",
      "\u001b[A\n",
      "\u001b[A\n",
      "\u001b[A\n",
      "\u001b[A\n",
      "\u001b[A\n",
      "\u001b[A\n",
      "\u001b[A\n",
      "\u001b[A\n",
      "\u001b[A\n",
      "\u001b[A\n",
      "\u001b[A\n",
      "\u001b[A\n",
      "\u001b[A\n",
      "\u001b[A\n",
      "\u001b[A\n",
      "\u001b[A\n",
      "\u001b[A\n",
      "\u001b[A\n",
      "\u001b[A\n",
      "\u001b[A\n",
      "\u001b[A\n",
      "\u001b[A\n",
      "\u001b[A\n",
      "\u001b[A\n",
      "\u001b[A\n",
      "\u001b[A\n",
      "\u001b[A\n",
      "\u001b[A\n",
      "\u001b[A\n",
      "\u001b[A"
     ]
    },
    {
     "name": "stderr",
     "output_type": "stream",
     "text": [
      "\n",
      "\u001b[A"
     ]
    }
   ],
   "source": [
    "# Initialize an empty list to store the sentences\n",
    "ranks = [100, 200, 300, 400, 500]\n",
    "dup_rates = []\n",
    "\n",
    "for rank in ranks:\n",
    "    filtered_sentences = []\n",
    "    # Open the input file again to read sentences\n",
    "    with open(input_file, 'r') as file:\n",
    "        pbar = tqdm(total=file_size, desc=\"Processing lines\", unit=\"B\", unit_scale=True, unit_divisor=1024)\n",
    "        \n",
    "        for i, line in enumerate(file):\n",
    "            if worst_ranks[i] <= rank:\n",
    "                filtered_sentences.append(line)\n",
    "            pbar.update(len(line.encode(\"utf-8\")))\n",
    "    dup_rate = round(len(get_duplicates(filtered_sentences)) / len(filtered_sentences)*100,2)\n",
    "    dup_rates.append(dup_rate)\n",
    "    \n",
    "    output_file = f\"/n/netscratch/sham_lab/Everyone/jchooi/in-context-language-learning/data/TinyStories-frequent-{rank}.txt\"\n",
    "    with open(output_file, 'w') as file:\n",
    "        file.write(''.join(filtered_sentences))"
   ]
  },
  {
   "cell_type": "code",
   "execution_count": 68,
   "metadata": {},
   "outputs": [
    {
     "data": {
      "text/plain": [
       "[94.71, 86.43, 79.79, 74.96, 71.18]"
      ]
     },
     "execution_count": 68,
     "metadata": {},
     "output_type": "execute_result"
    }
   ],
   "source": [
    "dup_rates"
   ]
  },
  {
   "cell_type": "code",
   "execution_count": 72,
   "metadata": {},
   "outputs": [
    {
     "data": {
      "text/plain": [
       "['1,071,376', '2,845,284', '4,348,562', '5,660,140', '6,801,763']"
      ]
     },
     "execution_count": 72,
     "metadata": {},
     "output_type": "execute_result"
    }
   ],
   "source": [
    "cnt = []\n",
    "for rank in ranks:\n",
    "    output_file = f\"/n/netscratch/sham_lab/Everyone/jchooi/in-context-language-learning/data/TinyStories-frequent-{rank}.txt\"\n",
    "    with open(output_file, 'r') as file:\n",
    "        line_count = sum(1 for _ in file)  # Count the number of lines\n",
    "        cnt.append(\"{:,}\".format(line_count))  # Push the count to cnt\n",
    "\n",
    "cnt"
   ]
  }
 ],
 "metadata": {
  "kernelspec": {
   "display_name": "Python (olmo2)",
   "language": "python",
   "name": "olmo2"
  },
  "language_info": {
   "codemirror_mode": {
    "name": "ipython",
    "version": 3
   },
   "file_extension": ".py",
   "mimetype": "text/x-python",
   "name": "python",
   "nbconvert_exporter": "python",
   "pygments_lexer": "ipython3",
   "version": "3.11.2"
  }
 },
 "nbformat": 4,
 "nbformat_minor": 2
}
