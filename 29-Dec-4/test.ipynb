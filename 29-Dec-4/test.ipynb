{
 "cells": [
  {
   "cell_type": "markdown",
   "metadata": {},
   "source": [
    "This notebook trains a range of HMM with 100 emission states (e). A HMM is a combination of 100, 200, 400, 800, 1600 context length (L) and 100, 200, 400, 800, 1600 hidden states (h).\n",
    "\n",
    "Input file:\n",
    "\n",
    "`/n/netscratch/sham_lab/Everyone/jchooi/in-context-language-learning/data/TinyStories-100-train.txt`\n",
    "`/n/netscratch/sham_lab/Everyone/jchooi/in-context-language-learning/data/TinyStories-100-test.txt`\n",
    "\n",
    "and the tokenizer\n",
    "\n",
    "`/n/netscratch/sham_lab/Everyone/jchooi/in-context-language-learning/data/tokenizer.json`\n",
    "\n",
    "Output file:\n",
    "\n",
    "`/n/netscratch/sham_lab/Everyone/jchooi/in-context-language-learning/models/TinyStories-e-100-L-{L}-h-{h}.pkl`"
   ]
  },
  {
   "cell_type": "code",
   "execution_count": 1,
   "metadata": {},
   "outputs": [],
   "source": [
    "from hmmlearn import hmm\n",
    "\n",
    "num_emission = 100\n",
    "\n",
    "\n",
    "def train_hmm(num_emission, num_hidden_states, data, lengths, verbose=False):\n",
    "    model = hmm.CategoricalHMM(n_components=num_hidden_states, n_features=num_emission, verbose=verbose)\n",
    "    \n",
    "    model.fit(data, lengths)\n",
    "    \n",
    "    return model"
   ]
  },
  {
   "cell_type": "code",
   "execution_count": 2,
   "metadata": {},
   "outputs": [],
   "source": [
    "# read the data and divide it into chunks of length context length\n",
    "\n",
    "def get_hmm_train_data(num_emission, context_length):\n",
    "    train_data_file_name = f\"/n/netscratch/sham_lab/Everyone/jchooi/in-context-language-learning/data/TinyStories-{num_emission}-train.txt\"\n",
    "    with open(train_data_file_name, 'r') as file:\n",
    "        lines = file.readlines()\n",
    "    \n",
    "    # put all lines on one line\n",
    "    text = ' '.join([line.strip() for line in lines])\n",
    "    \n",
    "    # parse as tokens\n",
    "    tokens = [int(token) for token in text.split()]\n",
    "    \n",
    "    # get chunks of size context length\n",
    "    chunks = []\n",
    "    idex = 0\n",
    "    while idex+context_length < len(tokens):\n",
    "        chunks.append(tokens[idex:idex+context_length])\n",
    "        idex += context_length\n",
    "    \n",
    "    # for above, note that it is possible that the final bits of the text will be cut off\n",
    "    \n",
    "    # the lengths are constant\n",
    "    lengths = [context_length] * len(chunks)\n",
    "    \n",
    "    # preprocess each chunk\n",
    "    # for the hmm, we need to wrap each emission with [] to show it is 1D\n",
    "    # and concat all data together\n",
    "    new_chunks = []\n",
    "    for chunk in chunks:\n",
    "        new_chunk = [[token] for token in chunk]\n",
    "        new_chunks += new_chunk\n",
    "    \n",
    "    chunks = new_chunks\n",
    "    del new_chunks\n",
    "    \n",
    "    # chunks is now an array of singletons\n",
    "    \n",
    "    return chunks, lengths"
   ]
  },
  {
   "cell_type": "code",
   "execution_count": 3,
   "metadata": {},
   "outputs": [],
   "source": [
    "# combinations\n",
    "\n",
    "class ModelParams:\n",
    "    L = None\n",
    "    h = None\n",
    "    e = None\n",
    "    \n",
    "    def __init__(self, L, h, e):\n",
    "        self.L = L\n",
    "        self.h = h\n",
    "        self.e = e\n",
    "        \n",
    "    def __str__(self):\n",
    "        return f\"ModelParams(L={self.L}, h={self.h}, e={self.e})\"\n",
    "\n",
    "Ls = [100, 200, 400, 800, 1600]\n",
    "hs = [100, 200, 400, 800, 1600]\n",
    "\n",
    "combinations = [ModelParams(L=L, h=h, e=100) for L in Ls for h in hs]"
   ]
  },
  {
   "cell_type": "code",
   "execution_count": 4,
   "metadata": {},
   "outputs": [
    {
     "data": {
      "text/plain": [
       "'ModelParams(L=100, h=100, e=100)'"
      ]
     },
     "execution_count": 4,
     "metadata": {},
     "output_type": "execute_result"
    }
   ],
   "source": [
    "# test out the simplest combination\n",
    "simple_model_params = combinations[0]\n",
    "str(simple_model_params)"
   ]
  },
  {
   "cell_type": "code",
   "execution_count": 5,
   "metadata": {},
   "outputs": [],
   "source": [
    "simple_train_data = get_hmm_train_data(num_emission=simple_model_params.e, context_length=simple_model_params.L)\n",
    "\n",
    "data, lengths = simple_train_data"
   ]
  },
  {
   "cell_type": "code",
   "execution_count": 8,
   "metadata": {},
   "outputs": [],
   "source": [
    "model = hmm.CategoricalHMM(n_components=simple_model_params.h, n_features=simple_model_params.e, verbose=True, n_iter=1)"
   ]
  },
  {
   "cell_type": "code",
   "execution_count": null,
   "metadata": {},
   "outputs": [],
   "source": [
    "model.fit(data, lengths)"
   ]
  },
  {
   "cell_type": "code",
   "execution_count": null,
   "metadata": {},
   "outputs": [],
   "source": [
    "simple_model = train_hmm(\n",
    "    num_emission=simple_model_params.e, num_hidden_states=simple_model_params.h, data=data, lengths=lengths, verbose=True\n",
    ")"
   ]
  },
  {
   "cell_type": "code",
   "execution_count": 1,
   "metadata": {},
   "outputs": [
    {
     "name": "stdout",
     "output_type": "stream",
     "text": [
      "test\n"
     ]
    }
   ],
   "source": [
    "import time\n",
    "\n",
    "time.sleep(5)\n",
    "print(\"test\")"
   ]
  },
  {
   "cell_type": "code",
   "execution_count": 2,
   "metadata": {},
   "outputs": [],
   "source": [
    "time.sleep(5)\n",
    "a = 4"
   ]
  },
  {
   "cell_type": "code",
   "execution_count": 3,
   "metadata": {},
   "outputs": [
    {
     "data": {
      "text/plain": [
       "4"
      ]
     },
     "execution_count": 3,
     "metadata": {},
     "output_type": "execute_result"
    }
   ],
   "source": [
    "a"
   ]
  }
 ],
 "metadata": {
  "kernelspec": {
   "display_name": "Python (olmo2)",
   "language": "python",
   "name": "olmo2"
  },
  "language_info": {
   "codemirror_mode": {
    "name": "ipython",
    "version": 3
   },
   "file_extension": ".py",
   "mimetype": "text/x-python",
   "name": "python",
   "nbconvert_exporter": "python",
   "pygments_lexer": "ipython3",
   "version": "3.11.2"
  }
 },
 "nbformat": 4,
 "nbformat_minor": 2
}
