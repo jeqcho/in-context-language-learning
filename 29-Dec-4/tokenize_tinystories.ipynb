{
 "cells": [
  {
   "cell_type": "markdown",
   "metadata": {},
   "source": [
    "This notebook tokenizes the TinyStories subsetted dataset from `frequent_words.ipynb`. It tokenizes each word into an integer by rank, and does a train-test split.\n",
    "\n",
    "Input file:\n",
    "- `/n/netscratch/sham_lab/Everyone/jchooi/in-context-language-learning/data/TinyStories-frequent-K.txt`\n",
    "- `/n/netscratch/sham_lab/Everyone/jchooi/in-context-language-learning/data/TinyStories-unique-K.txt`\n",
    "\n",
    "where K is 100, 200, 300, 400, 500, and the file containing the words and their frequencies\n",
    "\n",
    "`/n/netscratch/sham_lab/Everyone/jchooi/in-context-language-learning/data/TinyStories-word-freq.csv`\n",
    "\n",
    "\n",
    "Output file:\n",
    "- `/n/netscratch/sham_lab/Everyone/jchooi/in-context-language-learning/data/TinyStories-K-train.txt`\n",
    "- `/n/netscratch/sham_lab/Everyone/jchooi/in-context-language-learning/data/TinyStories-K-test.txt`\n",
    "- `/n/netscratch/sham_lab/Everyone/jchooi/in-context-language-learning/data/TinyStories-K-train-unique.txt`\n",
    "- `/n/netscratch/sham_lab/Everyone/jchooi/in-context-language-learning/data/TinyStories-K-test-unique.txt`\n",
    "\n",
    "and the tokenizer\n",
    "`/n/netscratch/sham_lab/Everyone/jchooi/in-context-language-learning/data/tokenizer.json`"
   ]
  },
  {
   "cell_type": "code",
   "execution_count": 19,
   "metadata": {},
   "outputs": [
    {
     "data": {
      "text/html": [
       "<div>\n",
       "<style scoped>\n",
       "    .dataframe tbody tr th:only-of-type {\n",
       "        vertical-align: middle;\n",
       "    }\n",
       "\n",
       "    .dataframe tbody tr th {\n",
       "        vertical-align: top;\n",
       "    }\n",
       "\n",
       "    .dataframe thead th {\n",
       "        text-align: right;\n",
       "    }\n",
       "</style>\n",
       "<table border=\"1\" class=\"dataframe\">\n",
       "  <thead>\n",
       "    <tr style=\"text-align: right;\">\n",
       "      <th></th>\n",
       "      <th>Unnamed: 0</th>\n",
       "      <th>Character</th>\n",
       "      <th>Frequency</th>\n",
       "      <th>Rank</th>\n",
       "    </tr>\n",
       "  </thead>\n",
       "  <tbody>\n",
       "    <tr>\n",
       "      <th>0</th>\n",
       "      <td>4</td>\n",
       "      <td>,</td>\n",
       "      <td>8350439</td>\n",
       "      <td>4</td>\n",
       "    </tr>\n",
       "    <tr>\n",
       "      <th>1</th>\n",
       "      <td>0</td>\n",
       "      <td>.</td>\n",
       "      <td>21637643</td>\n",
       "      <td>0</td>\n",
       "    </tr>\n",
       "    <tr>\n",
       "      <th>2</th>\n",
       "      <td>3</td>\n",
       "      <td>a</td>\n",
       "      <td>8937078</td>\n",
       "      <td>3</td>\n",
       "    </tr>\n",
       "    <tr>\n",
       "      <th>3</th>\n",
       "      <td>20303</td>\n",
       "      <td>aa</td>\n",
       "      <td>2</td>\n",
       "      <td>19297</td>\n",
       "    </tr>\n",
       "    <tr>\n",
       "      <th>4</th>\n",
       "      <td>27625</td>\n",
       "      <td>aaaaahing</td>\n",
       "      <td>1</td>\n",
       "      <td>22010</td>\n",
       "    </tr>\n",
       "  </tbody>\n",
       "</table>\n",
       "</div>"
      ],
      "text/plain": [
       "   Unnamed: 0  Character  Frequency   Rank\n",
       "0           4          ,    8350439      4\n",
       "1           0          .   21637643      0\n",
       "2           3          a    8937078      3\n",
       "3       20303         aa          2  19297\n",
       "4       27625  aaaaahing          1  22010"
      ]
     },
     "execution_count": 19,
     "metadata": {},
     "output_type": "execute_result"
    }
   ],
   "source": [
    "import pandas as pd\n",
    "\n",
    "Ks = [100, 200, 300, 400, 500]\n",
    "\n",
    "df_word_freq = pd.read_csv(\"/n/netscratch/sham_lab/Everyone/jchooi/in-context-language-learning/data/TinyStories-word-freq.csv\")\n",
    "df_word_freq.head()"
   ]
  },
  {
   "cell_type": "code",
   "execution_count": 20,
   "metadata": {},
   "outputs": [
    {
     "data": {
      "text/plain": [
       "\"{',': 4, '.': 0, 'a': 3, 'aa': 19297, 'aaaaahing':\""
      ]
     },
     "execution_count": 20,
     "metadata": {},
     "output_type": "execute_result"
    }
   ],
   "source": [
    "# make this into a tokenizer\n",
    "# represent this tokenizer as a dictionary\n",
    "\n",
    "tokenizer = df_word_freq.set_index('Character')['Rank'].to_dict()\n",
    "str(tokenizer)[:50]"
   ]
  },
  {
   "cell_type": "code",
   "execution_count": 21,
   "metadata": {},
   "outputs": [],
   "source": [
    "import json\n",
    "\n",
    "# Save the tokenizer dictionary as a JSON file\n",
    "with open('/n/netscratch/sham_lab/Everyone/jchooi/in-context-language-learning/data/tokenizer.json', 'w') as json_file:\n",
    "    json.dump(tokenizer, json_file)"
   ]
  },
  {
   "cell_type": "code",
   "execution_count": 22,
   "metadata": {},
   "outputs": [],
   "source": [
    "def tokenize_line(line):\n",
    "    return [tokenizer[word] for word in line.split()]"
   ]
  },
  {
   "cell_type": "markdown",
   "metadata": {},
   "source": [
    "Split and tokenize the unique sentences first, and use that train-test split for the sentences that include duplicates."
   ]
  },
  {
   "cell_type": "code",
   "execution_count": 23,
   "metadata": {},
   "outputs": [
    {
     "name": "stderr",
     "output_type": "stream",
     "text": [
      "100%|██████████| 5/5 [00:23<00:00,  4.62s/it]\n"
     ]
    }
   ],
   "source": [
    "import random\n",
    "from tqdm import tqdm\n",
    "\n",
    "train_tokens = []\n",
    "test_tokens = []\n",
    "test_hashes = [set()] * len(Ks)\n",
    "\n",
    "for i, K in enumerate(tqdm(Ks)):\n",
    "    input_file = f\"/n/netscratch/sham_lab/Everyone/jchooi/in-context-language-learning/data/TinyStories-unique-{K}.txt\"\n",
    "    train = []\n",
    "    test = []\n",
    "    with open(input_file, 'r') as file:\n",
    "        lines = file.readlines()\n",
    "    \n",
    "    # tokenize\n",
    "    lines = [tokenize_line(line) for line in lines]\n",
    "    \n",
    "    for line in lines:\n",
    "        if random.uniform(0,1) < 0.2:\n",
    "            test.append(line)\n",
    "        else:\n",
    "            train.append(line)\n",
    "    \n",
    "    # convert to tuple for hashing\n",
    "    test_hashes[i] = set([tuple(test_instance) for test_instance in test])\n",
    "    \n",
    "    # count number of tokens\n",
    "    train_tokens.append(sum([len(line) for line in train]))\n",
    "    test_tokens.append(sum([len(line) for line in test]))\n",
    "        \n",
    "    # cast to strings for writing\n",
    "    train = [' '.join([str(token) for token in line])+'\\n' for line in train]\n",
    "    test = [' '.join([str(token) for token in line])+'\\n' for line in test]\n",
    "    \n",
    "    # Output the split\n",
    "    train_output_file = f\"/n/netscratch/sham_lab/Everyone/jchooi/in-context-language-learning/data/TinyStories-{K}-train-unique.txt\"\n",
    "    test_output_file = f\"/n/netscratch/sham_lab/Everyone/jchooi/in-context-language-learning/data/TinyStories-{K}-test-unique.txt\"\n",
    "    \n",
    "    # Write the train and test data to respective files\n",
    "    with open(train_output_file, 'w') as train_file:\n",
    "        train_file.writelines(train)\n",
    "    \n",
    "    with open(test_output_file, 'w') as test_file:\n",
    "        test_file.writelines(test)"
   ]
  },
  {
   "cell_type": "code",
   "execution_count": 24,
   "metadata": {},
   "outputs": [
    {
     "data": {
      "text/plain": [
       "['689,997', '4,360,726', '9,625,369', '15,352,822', '20,938,503']"
      ]
     },
     "execution_count": 24,
     "metadata": {},
     "output_type": "execute_result"
    }
   ],
   "source": [
    "[f\"{train_token:,}\" for train_token in train_tokens]"
   ]
  },
  {
   "cell_type": "code",
   "execution_count": 25,
   "metadata": {},
   "outputs": [
    {
     "data": {
      "text/plain": [
       "['171,600', '1,089,234', '2,404,845', '3,837,880', '5,238,512']"
      ]
     },
     "execution_count": 25,
     "metadata": {},
     "output_type": "execute_result"
    }
   ],
   "source": [
    "[f\"{test_token:,}\" for test_token in test_tokens]"
   ]
  },
  {
   "cell_type": "code",
   "execution_count": 26,
   "metadata": {},
   "outputs": [
    {
     "name": "stderr",
     "output_type": "stream",
     "text": [
      "100%|██████████| 5/5 [01:11<00:00, 14.25s/it]\n"
     ]
    }
   ],
   "source": [
    "# repeat the exercise for normal (with duplicates)\n",
    "\n",
    "train_tokens = []\n",
    "test_tokens = []\n",
    "\n",
    "for i, K in enumerate(tqdm(Ks)):\n",
    "    input_file = f\"/n/netscratch/sham_lab/Everyone/jchooi/in-context-language-learning/data/TinyStories-frequent-{K}.txt\"\n",
    "    train = []\n",
    "    test = []\n",
    "    with open(input_file, 'r') as file:\n",
    "        lines = file.readlines()\n",
    "    \n",
    "    # tokenize\n",
    "    lines = [tokenize_line(line) for line in lines]\n",
    "    \n",
    "    for line in lines:\n",
    "        if tuple(line) in test_hashes[i]:\n",
    "            test.append(line)\n",
    "        else:\n",
    "            train.append(line)\n",
    "    \n",
    "    # count number of tokens\n",
    "    train_tokens.append(sum([len(line) for line in train]))\n",
    "    test_tokens.append(sum([len(line) for line in test]))\n",
    "        \n",
    "    # cast to strings for writing\n",
    "    train = [' '.join([str(token) for token in line])+'\\n' for line in train]\n",
    "    test = [' '.join([str(token) for token in line])+'\\n' for line in test]\n",
    "    \n",
    "    # Output the split\n",
    "    train_output_file = f\"/n/netscratch/sham_lab/Everyone/jchooi/in-context-language-learning/data/TinyStories-{K}-train.txt\"\n",
    "    test_output_file = f\"/n/netscratch/sham_lab/Everyone/jchooi/in-context-language-learning/data/TinyStories-{K}-test.txt\"\n",
    "    \n",
    "    # Write the train and test data to respective files\n",
    "    with open(train_output_file, 'w') as train_file:\n",
    "        train_file.writelines(train)\n",
    "    \n",
    "    with open(test_output_file, 'w') as test_file:\n",
    "        test_file.writelines(test)"
   ]
  },
  {
   "cell_type": "code",
   "execution_count": 27,
   "metadata": {},
   "outputs": [
    {
     "data": {
      "text/plain": [
       "['7,451,413', '20,608,430', '31,785,933', '42,779,104', '51,522,412']"
      ]
     },
     "execution_count": 27,
     "metadata": {},
     "output_type": "execute_result"
    }
   ],
   "source": [
    "[f\"{train_token:,}\" for train_token in train_tokens]"
   ]
  },
  {
   "cell_type": "code",
   "execution_count": 28,
   "metadata": {},
   "outputs": [
    {
     "data": {
      "text/plain": [
       "['2,128,850', '4,694,522', '7,513,301', '9,463,947', '11,918,012']"
      ]
     },
     "execution_count": 28,
     "metadata": {},
     "output_type": "execute_result"
    }
   ],
   "source": [
    "[f\"{test_token:,}\" for test_token in test_tokens]"
   ]
  },
  {
   "cell_type": "code",
   "execution_count": null,
   "metadata": {},
   "outputs": [],
   "source": []
  }
 ],
 "metadata": {
  "kernelspec": {
   "display_name": "Python (olmo2)",
   "language": "python",
   "name": "olmo2"
  },
  "language_info": {
   "codemirror_mode": {
    "name": "ipython",
    "version": 3
   },
   "file_extension": ".py",
   "mimetype": "text/x-python",
   "name": "python",
   "nbconvert_exporter": "python",
   "pygments_lexer": "ipython3",
   "version": "3.11.2"
  }
 },
 "nbformat": 4,
 "nbformat_minor": 2
}
