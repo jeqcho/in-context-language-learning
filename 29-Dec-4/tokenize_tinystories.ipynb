{
 "cells": [
  {
   "cell_type": "markdown",
   "metadata": {},
   "source": [
    "This notebook tokenizes the TinyStories subsetted dataset from `frequent_words.ipynb`. It tokenizes each word into an integer by rank, and does a train-test split.\n",
    "\n",
    "Input file:\n",
    "`/n/netscratch/sham_lab/Everyone/jchooi/in-context-language-learning/data/TinyStories-frequent-K.txt`\n",
    "\n",
    "where K is 100, 200, 300, 400, 500, and the file containing the words and their frequencies\n",
    "\n",
    "`/n/netscratch/sham_lab/Everyone/jchooi/in-context-language-learning/data/TinyStories-word-freq.csv`\n",
    "\n",
    "\n",
    "Output file:\n",
    "`/n/netscratch/sham_lab/Everyone/jchooi/in-context-language-learning/data/TinyStories-K-train.txt`\n",
    "`/n/netscratch/sham_lab/Everyone/jchooi/in-context-language-learning/data/TinyStories-K-test.txt`\n",
    "\n",
    "and the tokenizer\n",
    "`/n/netscratch/sham_lab/Everyone/jchooi/in-context-language-learning/data/tokenizer.json`"
   ]
  },
  {
   "cell_type": "code",
   "execution_count": 2,
   "metadata": {},
   "outputs": [
    {
     "data": {
      "text/html": [
       "<div>\n",
       "<style scoped>\n",
       "    .dataframe tbody tr th:only-of-type {\n",
       "        vertical-align: middle;\n",
       "    }\n",
       "\n",
       "    .dataframe tbody tr th {\n",
       "        vertical-align: top;\n",
       "    }\n",
       "\n",
       "    .dataframe thead th {\n",
       "        text-align: right;\n",
       "    }\n",
       "</style>\n",
       "<table border=\"1\" class=\"dataframe\">\n",
       "  <thead>\n",
       "    <tr style=\"text-align: right;\">\n",
       "      <th></th>\n",
       "      <th>Unnamed: 0</th>\n",
       "      <th>Character</th>\n",
       "      <th>Frequency</th>\n",
       "      <th>Rank</th>\n",
       "    </tr>\n",
       "  </thead>\n",
       "  <tbody>\n",
       "    <tr>\n",
       "      <th>0</th>\n",
       "      <td>0</td>\n",
       "      <td>.</td>\n",
       "      <td>21637643</td>\n",
       "      <td>1</td>\n",
       "    </tr>\n",
       "    <tr>\n",
       "      <th>1</th>\n",
       "      <td>1</td>\n",
       "      <td>the</td>\n",
       "      <td>13026562</td>\n",
       "      <td>2</td>\n",
       "    </tr>\n",
       "    <tr>\n",
       "      <th>2</th>\n",
       "      <td>2</td>\n",
       "      <td>and</td>\n",
       "      <td>9573623</td>\n",
       "      <td>3</td>\n",
       "    </tr>\n",
       "    <tr>\n",
       "      <th>3</th>\n",
       "      <td>3</td>\n",
       "      <td>a</td>\n",
       "      <td>8937078</td>\n",
       "      <td>4</td>\n",
       "    </tr>\n",
       "    <tr>\n",
       "      <th>4</th>\n",
       "      <td>4</td>\n",
       "      <td>,</td>\n",
       "      <td>8350439</td>\n",
       "      <td>5</td>\n",
       "    </tr>\n",
       "  </tbody>\n",
       "</table>\n",
       "</div>"
      ],
      "text/plain": [
       "   Unnamed: 0 Character  Frequency  Rank\n",
       "0           0         .   21637643     1\n",
       "1           1       the   13026562     2\n",
       "2           2       and    9573623     3\n",
       "3           3         a    8937078     4\n",
       "4           4         ,    8350439     5"
      ]
     },
     "execution_count": 2,
     "metadata": {},
     "output_type": "execute_result"
    }
   ],
   "source": [
    "import pandas as pd\n",
    "\n",
    "Ks = [100, 200, 300, 400, 500]\n",
    "\n",
    "df_word_freq = pd.read_csv(\"/n/netscratch/sham_lab/Everyone/jchooi/in-context-language-learning/data/TinyStories-word-freq.csv\")\n",
    "df_word_freq.head()"
   ]
  },
  {
   "cell_type": "code",
   "execution_count": 4,
   "metadata": {},
   "outputs": [],
   "source": [
    "# we use a 0-indexed rank system, with no ties\n",
    "df_word_freq = df_word_freq.sort_values(by=\"Character\")\n",
    "df_word_freq['Rank'] = df_word_freq['Frequency'].rank(ascending=False, method='first').astype(int)\n",
    "\n",
    "# Assert that there are no ties in the ranks\n",
    "assert df_word_freq['Rank'].nunique() == len(df_word_freq), \"There are ties in the ranks\""
   ]
  },
  {
   "cell_type": "code",
   "execution_count": 13,
   "metadata": {},
   "outputs": [
    {
     "data": {
      "text/plain": [
       "\"{',': 5, '.': 1, 'a': 4, 'aa': 19298, 'aaaaahing':\""
      ]
     },
     "execution_count": 13,
     "metadata": {},
     "output_type": "execute_result"
    }
   ],
   "source": [
    "# make this into a tokenizer\n",
    "# represent this tokenizer as a dictionary\n",
    "\n",
    "tokenizer = df_word_freq.set_index('Character')['Rank'].to_dict()\n",
    "str(tokenizer)[:50]"
   ]
  },
  {
   "cell_type": "code",
   "execution_count": 15,
   "metadata": {},
   "outputs": [],
   "source": [
    "import json\n",
    "\n",
    "# Save the tokenizer dictionary as a JSON file\n",
    "with open('/n/netscratch/sham_lab/Everyone/jchooi/in-context-language-learning/data/tokenizer.json', 'w') as json_file:\n",
    "    json.dump(tokenizer, json_file)"
   ]
  },
  {
   "cell_type": "code",
   "execution_count": 16,
   "metadata": {},
   "outputs": [],
   "source": [
    "def tokenize_line(line):\n",
    "    return [tokenizer[word] for word in line.split()]"
   ]
  },
  {
   "cell_type": "code",
   "execution_count": 18,
   "metadata": {},
   "outputs": [
    {
     "name": "stderr",
     "output_type": "stream",
     "text": [
      "100%|██████████| 5/5 [01:37<00:00, 19.55s/it]\n"
     ]
    }
   ],
   "source": [
    "import random\n",
    "from tqdm import tqdm\n",
    "\n",
    "for K in tqdm(Ks):\n",
    "    input_file = f\"/n/netscratch/sham_lab/Everyone/jchooi/in-context-language-learning/data/TinyStories-frequent-{K}.txt\"\n",
    "    train = []\n",
    "    test = []\n",
    "    with open(input_file, 'r') as file:\n",
    "        lines = file.readlines()\n",
    "    \n",
    "    # tokenize\n",
    "    lines = [tokenize_line(line) for line in lines]\n",
    "        \n",
    "    # Shuffle the lines to ensure random distribution\n",
    "    random.shuffle(lines)\n",
    "    \n",
    "    # Split data into 80% train and 20% test\n",
    "    split_index = int(0.8 * len(lines))\n",
    "    train = lines[:split_index]\n",
    "    test = lines[split_index:]\n",
    "    \n",
    "    # cast to strings for writing\n",
    "    train = [' '.join([str(token) for token in line]) for line in train]\n",
    "    test = [' '.join([str(token) for token in line]) for line in test]\n",
    "    \n",
    "    # Output the split\n",
    "    train_output_file = f\"/n/netscratch/sham_lab/Everyone/jchooi/in-context-language-learning/data/TinyStories-{K}-train.txt\"\n",
    "    test_output_file = f\"/n/netscratch/sham_lab/Everyone/jchooi/in-context-language-learning/data/TinyStories-{K}-test.txt\"\n",
    "    \n",
    "    # Write the train and test data to respective files\n",
    "    with open(train_output_file, 'w') as train_file:\n",
    "        train_file.writelines(train)\n",
    "    \n",
    "    with open(test_output_file, 'w') as test_file:\n",
    "        test_file.writelines(test)"
   ]
  }
 ],
 "metadata": {
  "kernelspec": {
   "display_name": "Python (olmo2)",
   "language": "python",
   "name": "olmo2"
  },
  "language_info": {
   "codemirror_mode": {
    "name": "ipython",
    "version": 3
   },
   "file_extension": ".py",
   "mimetype": "text/x-python",
   "name": "python",
   "nbconvert_exporter": "python",
   "pygments_lexer": "ipython3",
   "version": "3.11.2"
  }
 },
 "nbformat": 4,
 "nbformat_minor": 2
}
