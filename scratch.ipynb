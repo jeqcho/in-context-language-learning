{
 "cells": [
  {
   "cell_type": "code",
   "execution_count": 11,
   "metadata": {},
   "outputs": [],
   "source": [
    "import torch\n",
    "import numpy as np\n",
    "\n",
    "def generate_hmm_sequence(num_symbols:int, num_hidden_states:int, seq_len:int) -> torch.Tensor:\n",
    "    transition_matrix = np.random.dirichlet(np.ones(num_hidden_states), size=(num_hidden_states,))\n",
    "\n",
    "    emission_matrix = np.random.dirichlet(np.ones(num_symbols), size=(num_hidden_states,))\n",
    "    "
   ]
  },
  {
   "cell_type": "code",
   "execution_count": 12,
   "metadata": {},
   "outputs": [
    {
     "data": {
      "text/plain": [
       "array([[0.49514091, 0.30018841, 0.20467067],\n",
       "       [0.11372933, 0.7760574 , 0.11021327],\n",
       "       [0.64189977, 0.00423118, 0.35386904],\n",
       "       [0.69548443, 0.16375843, 0.14075715]])"
      ]
     },
     "execution_count": 12,
     "metadata": {},
     "output_type": "execute_result"
    }
   ],
   "source": [
    "num_symbols = 3\n",
    "num_hidden_states = 4\n",
    "emission_matrix = np.random.dirichlet(np.ones(num_symbols), size=(num_hidden_states,))\n",
    "emission_matrix"
   ]
  },
  {
   "cell_type": "code",
   "execution_count": 13,
   "metadata": {},
   "outputs": [
    {
     "ename": "ModuleNotFoundError",
     "evalue": "No module named 'markov_chain_generator'",
     "output_type": "error",
     "traceback": [
      "\u001b[0;31m---------------------------------------------------------------------------\u001b[0m",
      "\u001b[0;31mModuleNotFoundError\u001b[0m                       Traceback (most recent call last)",
      "Cell \u001b[0;32mIn[13], line 3\u001b[0m\n\u001b[1;32m      1\u001b[0m \u001b[38;5;28;01mimport\u001b[39;00m \u001b[38;5;21;01mtorch\u001b[39;00m\n\u001b[1;32m      2\u001b[0m \u001b[38;5;28;01mimport\u001b[39;00m \u001b[38;5;21;01mnumpy\u001b[39;00m \u001b[38;5;28;01mas\u001b[39;00m \u001b[38;5;21;01mnp\u001b[39;00m\n\u001b[0;32m----> 3\u001b[0m \u001b[38;5;28;01mfrom\u001b[39;00m \u001b[38;5;21;01mmarkov_chain_generator\u001b[39;00m \u001b[38;5;28;01mimport\u001b[39;00m stationary_distribution, generate_markov_chain\n\u001b[1;32m      4\u001b[0m \u001b[38;5;28;01mfrom\u001b[39;00m \u001b[38;5;21;01mrandom\u001b[39;00m \u001b[38;5;28;01mimport\u001b[39;00m choices\n\u001b[1;32m      7\u001b[0m \u001b[38;5;28;01mdef\u001b[39;00m \u001b[38;5;21mgenerate_hmm_sequence\u001b[39m(num_symbols: \u001b[38;5;28mint\u001b[39m, num_hidden_states: \u001b[38;5;28mint\u001b[39m, seq_len: \u001b[38;5;28mint\u001b[39m) \u001b[38;5;241m-\u001b[39m\u001b[38;5;241m>\u001b[39m torch\u001b[38;5;241m.\u001b[39mTensor:\n\u001b[1;32m      8\u001b[0m     \u001b[38;5;66;03m# generate a Markov chain as the hidden states\u001b[39;00m\n",
      "\u001b[0;31mModuleNotFoundError\u001b[0m: No module named 'markov_chain_generator'"
     ]
    }
   ],
   "source": [
    "import torch\n",
    "import numpy as np\n",
    "from markov_chain_generator import stationary_distribution, generate_markov_chain\n",
    "from random import choices\n",
    "\n",
    "\n",
    "def generate_hmm_sequence(num_symbols: int, num_hidden_states: int, seq_len: int) -> torch.Tensor:\n",
    "    # generate a Markov chain as the hidden states\n",
    "    hidden_sequence, transition_matrix, chosen_symbols = generate_markov_chain(\n",
    "        num_symbols=num_hidden_states, seq_len=seq_len, deterministic=False, doubly_stochastic=False\n",
    "    )\n",
    "\n",
    "    # generate the emission matrix\n",
    "    emission_matrix = np.random.dirichlet(np.ones(num_symbols), size=(num_hidden_states,))\n",
    "\n",
    "    # replace the hidden states with the emissions\n",
    "    sequence = [choices(range(num_symbols), cum_weights=emission_matrix[hidden_sequence])]\n"
   ]
  },
  {
   "cell_type": "code",
   "execution_count": null,
   "metadata": {},
   "outputs": [],
   "source": []
  }
 ],
 "metadata": {
  "kernelspec": {
   "display_name": "Python (olmo2)",
   "language": "python",
   "name": "olmo2"
  },
  "language_info": {
   "codemirror_mode": {
    "name": "ipython",
    "version": 3
   },
   "file_extension": ".py",
   "mimetype": "text/x-python",
   "name": "python",
   "nbconvert_exporter": "python",
   "pygments_lexer": "ipython3",
   "version": "3.11.2"
  }
 },
 "nbformat": 4,
 "nbformat_minor": 2
}
