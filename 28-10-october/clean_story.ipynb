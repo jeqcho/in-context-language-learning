{
 "cells": [
  {
   "cell_type": "code",
   "execution_count": 2,
   "metadata": {},
   "outputs": [],
   "source": [
    "# read the file and clean out stories that end abruptly\n",
    "\n",
    "filename = \"/n/holyscratch01/sham_lab/summer_2024/datasets/tiny-600.txt\"\n",
    "with open(filename, 'r') as f:\n",
    "    all_text = f.read()"
   ]
  },
  {
   "cell_type": "code",
   "execution_count": 3,
   "metadata": {},
   "outputs": [
    {
     "data": {
      "text/plain": [
       "['Once upon a time, there was a hungry butterfly. The butterfly did not know where to find food. It flew around looking for something to eat.\\nOne day, the butterfly met a big, friendly bear. The bear knew where to find food. He said, \"Come with me, little butterfly. I will show you where to find yummy flowers.\" The butterfly was very happy and said, \"Thank you, big bear!\"\\nThe bear took the butterfly to a beautiful garden full of flowers. The butterfly ate and ate until it was not hungry anymore. The butterfly and the bear became good friends. They played together every day and had lots of fun.<|endoftext|>\\n',\n",
       " 'One day, a boy named Tim went to play in the park. He was glad to be there. He saw a big tree and wanted to climb it. Tim was very happy.\\nTim saw a cat in the tree. \"Hi, cat!\" said Tim. The cat was scared. Tim wanted to help the cat. He climbed the tree to get the cat.\\nBut, the cat was not a cat! It was a dog! Tim was surprised. \"You are not a cat, you are a dog!\" Tim said. The dog was glad Tim found him. They became friends and played in the park together.<|endoftext|>\\n',\n",
       " 'One day, a little girl named Mia went to the park with her mom. Mia saw a boy with a big red ball. The boy looked sad because he had no one to play with. Mia wanted to make the boy happy.\\nMia asked her mom if she could give the boy a hug. Her mom said yes, so Mia walked up to the boy and gave him a big hug. The boy smiled and asked Mia if she wanted to play with the ball. They played together all day, and Mia felt very proud that she had made a new friend.\\nAt the end of the day, Mia and the boy were tired but happy. They said goodbye and Mia went home with her mom. That night, Mia told her dad about her new friend and how proud she was that she had made him happy. Her dad gave her a hug and told her she was a very kind girl.<|endoftext|>\\n',\n",
       " 'Once upon a time, there was a little boy named Tim. Tim had a brother named Sam. Tim and Sam liked to play outside. One day, they were very curious and wanted to find something new.\\nThey walked and walked until they saw a big tree. The tree had a hole in it. Tim and Sam looked inside the hole. They found a little bird. The bird was tired and needed to rest. Tim and Sam wanted to help the bird.\\nThey took the bird home and gave it some food. The bird started to feel better. Then, something unexpected happened. The bird started to grow and grow. It was not a little bird anymore. It was a big bird! Tim and Sam were very surprised. They played with the big bird and had lots of fun. And from that day on, Tim, Sam, and the big bird were the best of friends.<|endoftext|>\\n',\n",
       " 'Once upon a time, there was a little boy named Tim. He had a brother named Sam. Tim and Sam loved to play together. They always had so much fun.\\nOne day, Tim and Sam found a big box of colorful toys. They were very excited to play with them. The toys were red, blue, yellow, and green. They played with the toys all day long.\\nAt the end of the day, Tim and Sam were very happy. They loved their new colorful toys. They could not wait to play with them again the next day.<|endoftext|>\\n']"
      ]
     },
     "execution_count": 3,
     "metadata": {},
     "output_type": "execute_result"
    }
   ],
   "source": [
    "split_token = \"<|endoftext|>\\n\"\n",
    "\n",
    "stories = [text + split_token for text in all_text.split(split_token)]\n",
    "stories[:5]"
   ]
  },
  {
   "cell_type": "code",
   "execution_count": 4,
   "metadata": {},
   "outputs": [
    {
     "data": {
      "text/plain": [
       "['<|endoftext|>\\n',\n",
       " 'One<|endoftext|>\\n',\n",
       " 'Once<|endoftext|>\\n',\n",
       " 'Once<|endoftext|>\\n',\n",
       " 'Once upon a time,<|endoftext|>\\n',\n",
       " 'Once upon a time, there<|endoftext|>\\n',\n",
       " 'One day, a boy named Tom<|endoftext|>\\n',\n",
       " 'One day, a little boy named<|endoftext|>\\n',\n",
       " 'Once upon a time, there was a<|endoftext|>\\n',\n",
       " 'Once upon a time, there was a little<|endoftext|>\\n',\n",
       " 'Once upon a time, there was a little boy<|endoftext|>\\n',\n",
       " 'One day, a little squirrel named Sam went to find<|endoftext|>\\n',\n",
       " 'One day, a little boy named Tim went to the park. He was<|endoftext|>\\n',\n",
       " 'One day, a little bird named Tim was playing with his friends.<|endoftext|>\\n',\n",
       " 'Once upon a time, there was a little fish named Fin. Fin was a very<|endoftext|>\\n',\n",
       " 'Once upon a time, there was a little girl named Mia. She lived in a<|endoftext|>\\n',\n",
       " 'One day, a boy named Tim went to the park with his mom. It was a hot<|endoftext|>\\n',\n",
       " 'Once upon a time, in a small town, there lived a girl named Lily. Lily loved<|endoftext|>\\n',\n",
       " 'Once upon a time, there was a little boy named Tim. Tim loved to play outside. One<|endoftext|>\\n',\n",
       " 'Once upon a time, there was a little boy named Tim. Tim loved to play all day. He had many toys in his<|endoftext|>\\n']"
      ]
     },
     "execution_count": 4,
     "metadata": {},
     "output_type": "execute_result"
    }
   ],
   "source": [
    "# usually these stories have short length\n",
    "\n",
    "# Sorting the stories by their length\n",
    "sorted_stories = sorted(stories, key=len)\n",
    "\n",
    "sorted_stories[:20]"
   ]
  },
  {
   "cell_type": "code",
   "execution_count": 5,
   "metadata": {},
   "outputs": [
    {
     "name": "stdout",
     "output_type": "stream",
     "text": [
      "One day, a boy named Tom<|endoftext|>\n",
      "\n",
      "Once upon a time, there was a little fish named Fin. Fin was a very<|endoftext|>\n",
      "\n",
      "One day, a little squirrel named Sam went to find<|endoftext|>\n",
      "\n",
      "Once upon a time, there was a little boy named Tim. He had a big red truck. He loved to play with his truck every day. One hot day, Tim went to the park to play with his truck.\n",
      "At the park, Tim saw a girl named Sue. Sue liked Tim's truck very much. She wanted to play with it too. But Tim didn't want to share his truck. He wanted to play with it all by himself. This made Sue very sad.\n",
      "Sue's mom told Tim to take turns with Sue. They could both play with the truck. Tim thought about it and decided to share. They took turns and had a lot of fun. Tim learned that sharing his truck made playing even better!<|endoftext|>\n",
      "\n",
      "Once upon a time, there was a little boy named Tim. Tim was very fast. He loved to run and play all day. One day, Tim went to the store with his mom. The store had many yummy things to eat.\n",
      "At the store, Tim saw a big, red apple. He wanted to eat it. Tim asked his mom, \"Can I eat the apple, please?\" His mom said, \"Yes, you can eat it when we get home.\"\n",
      "Tim and his mom walked home from the store. Tim was so excited to eat the apple. When they got home, Tim ate the apple very fast. It was so yummy. Tim was happy and said, \"Thank you, Mom, for the apple.\"<|endoftext|>\n",
      "\n",
      "Once upon a time, there was a<|endoftext|>\n",
      "\n",
      "Once<|endoftext|>\n",
      "\n",
      "Once upon a time, there was a big lion. The lion was sad. He had no friends to play with. One day, he met a little bird. The bird was happy to see the lion.\n",
      "The bird said, \"Why are you sad, lion?\" The lion told the bird, \"I am sad because I have no friends.\" The bird wanted to help the lion. So, the bird told the lion, \"I will be your friend, and I will find more friends for you.\"\n",
      "The bird and the lion played together. They had fun. The bird told other animals about the lion. Soon, the lion had many friends. They all played together, and the lion was not sad anymore. The lion was very happy, and he said, \"Thank you, bird, for being my friend and helping me find more friends.\"<|endoftext|>\n",
      "\n",
      "Once upon a time, there was a kind girl. Her name was Lily. She liked to play outside with her friends.\n",
      "One day, Lily saw a big tree. She wanted to climb it. She asked her friends to help her. They all said yes.\n",
      "Lily and her friends started to climb the tree. They went up, up, up. They saw birds and pretty leaves. They were very happy. When they were done, they climbed down and said, \"That was fun!\"<|endoftext|>\n",
      "\n",
      "Once upon a time, there was a little girl named Jane. Jane liked to play outside with her dog, Buddy. One day, Jane and Buddy went to the park. They saw a big tree and wanted to play near it.\n",
      "As they played, Jane saw a small fire. She was scared and didn't know what to do. She called for her mommy. Her mommy came running and put out the fire with some water. Jane was very glad that her mommy was there to help.\n",
      "After the fire was gone, Jane and Buddy went back to playing. They played all day long. When the sun went down, they went home. Jane was happy and tired. She hugged her mommy and said, \"Thank you for helping with the fire.\" Her mommy hugged her back and said, \"I'm always here to help you, Jane.\"<|endoftext|>\n",
      "\n",
      "Once upon a time, there was a nice lady. She lived in a small house. She had a big, red ball. One day, she went outside to play with her ball.\n",
      "A little boy saw her and said, \"Look, a nice lady with a big, red ball!\" He went to the lady and asked, \"Can I play with you?\" The lady said, \"Yes, you can.\"\n",
      "They played with the ball and had fun. But then, something unexpected happened. The ball flew up into the sky and turned into a big, red bird! The bird flew away, and the lady and the boy looked at each other in surprise. They laughed and said, \"That was a fun day!\"<|endoftext|>\n",
      "\n",
      "Once upon a time, there was a little girl named Mia. She lived in a<|endoftext|>\n",
      "\n",
      "One day, a little boy named<|endoftext|>\n",
      "\n",
      "One day, a little boy named Tim went to the park. He was<|endoftext|>\n",
      "\n",
      "Once upon a time, there was a little boy<|endoftext|>\n",
      "\n",
      "Once upon a time, there was a big, white dog named Spot. Spot loved to play in the yard. He would run and jump all day long. Spot's mom would always say, \"Keep the yard clean, Spot!\"\n",
      "One day, Spot found a big, red ball in the yard. He loved to play with the ball, but he knew he should keep the yard clean. Spot thought, \"I will play with the ball, but I will keep the yard clean too.\"\n",
      "Spot played with the ball for a long time. He ran and jumped, but he was careful to keep the yard clean. When it was time to go inside, Spot's mom was so happy. She said, \"Good job, Spot! You kept the yard clean and had fun too!\"<|endoftext|>\n",
      "\n",
      "Once<|endoftext|>\n",
      "\n",
      "Once upon a time, in a small town, there lived a girl named Lily. Lily loved<|endoftext|>\n",
      "\n",
      "Once upon a time, there was a little<|endoftext|>\n",
      "\n",
      "Once upon a time, there<|endoftext|>\n",
      "\n",
      "One day, a little girl named Sue went to the store with her mom. Sue saw some cream at the store. She asked her mom, \"Can we buy the cream, please?\" Her mom said, \"Yes, we can buy the cream.\"\n",
      "When they got home, Sue's mom read a book to her. The book was about a cat that was hurt. The cat was sad because it could not play. Sue felt sad for the cat too.\n",
      "Sue had an idea. She took the cream and put it on the hurt cat in the book. She said, \"Now the cat will feel better.\" Sue's mom smiled and said, \"That's very kind of you, Sue.\"<|endoftext|>\n",
      "\n",
      "Once upon a time, there was a little boy named Tim. Tim loved to play all day. He had many toys in his<|endoftext|>\n",
      "\n",
      "One day, a big red owl was in a tree. The owl saw a little girl named Sue. Sue was sad. The owl wanted to help Sue.\n",
      "\"Hi Sue,\" said the owl. \"Why are you sad?\" Sue looked up and saw the big red owl. She was surprised. \"I lost my toy,\" Sue said. The owl wanted to find the toy for Sue.\n",
      "The owl looked around and saw something. It was Sue's toy! But it was not where the owl thought. It was in the hands of a little boy named Tim. The owl flew to Tim and said, \"That toy is Sue's. Can you give it back?\" Tim looked at the owl and said, \"I did not know. I will give it back to Sue.\"<|endoftext|>\n",
      "\n",
      "One<|endoftext|>\n",
      "\n",
      "Once upon a time, in a big tree, there was a little owl. The little owl liked to fly and find new friends. One day, the little owl met a small bird.\n",
      "\"Hi, bird! Do you want to play with me?\" the little owl asked. The small bird said, \"Yes! Let's find some fun things to do!\"\n",
      "While they were playing, they heard a loud noise. They flew to find out what it was. They saw a big box on the ground. The little owl and the small bird were very curious.\n",
      "They went to the big box and opened it. Inside the box, they found a big cake! The little owl and the small bird were so happy. They shared the cake with all their friends in the forest. It was a fun and yummy day for everyone!<|endoftext|>\n",
      "\n",
      "One day, a boy named Tim went to the park with his mom. It was a hot<|endoftext|>\n",
      "\n",
      "\n",
      "Once upon a time, there lived a little boy named Jack. Jack had a lot of toys, but he wanted a new one. So his mommy took him to the store.\n",
      "When they got there, Jack was so excited. He saw a big toy train, and it was great! He asked his mommy to buy it for him.\n",
      "His mommy said yes, and Jack was so happy. He hugged the train and played with it in the store.\n",
      "Then they went home, and Jack was so excited. He played with the train all day. Now he had a great new toy!<|endoftext|>\n",
      "\n",
      "Once upon a time, there was a little boy named Tim. Tim lived in a small house with his mom, dad, and dog, Spot. Tim loved to play outside in the sun with Spot.\n",
      "One day, Tim saw a big red ball high up in a tree. He wanted the ball very much. He asked his mom, \"Can I reach the ball in the tree?\" His mom said, \"No, Tim. It is too high. Stay here. It is important to be safe.\"\n",
      "But Tim did not listen. When his mom went inside, he tried to reach the ball. He climbed the tree, but he fell down. Tim was hurt and cried. His mom came running out and said, \"I told you to stay and not reach the ball. Now you are hurt. You must listen to me next time.\"<|endoftext|>\n",
      "\n",
      "Once upon a time,<|endoftext|>\n",
      "\n",
      "Once upon a time, there was a little boy named Tim. Tim loved to play outside. One<|endoftext|>\n",
      "\n"
     ]
    }
   ],
   "source": [
    "# another way is that they end without a period\n",
    "period_ending = '.' + split_token\n",
    "\n",
    "cnt=0\n",
    "for story in stories:\n",
    "    if len(story)>len(period_ending) and story[-len(period_ending):] != period_ending:\n",
    "        cnt += 1\n",
    "        print(story)"
   ]
  },
  {
   "cell_type": "code",
   "execution_count": 6,
   "metadata": {},
   "outputs": [
    {
     "name": "stdout",
     "output_type": "stream",
     "text": [
      "30\n",
      "846\n"
     ]
    }
   ],
   "source": [
    "# the number of stories without period vs total\n",
    "print(cnt)\n",
    "print(len(stories))"
   ]
  },
  {
   "cell_type": "code",
   "execution_count": 7,
   "metadata": {},
   "outputs": [
    {
     "name": "stdout",
     "output_type": "stream",
     "text": [
      "845\n"
     ]
    }
   ],
   "source": [
    "# remove the one with just eos\n",
    "stories = [story for story in stories if story != split_token]\n",
    "print(len(stories))"
   ]
  },
  {
   "cell_type": "code",
   "execution_count": 8,
   "metadata": {},
   "outputs": [
    {
     "data": {
      "text/plain": [
       "827"
      ]
     },
     "execution_count": 8,
     "metadata": {},
     "output_type": "execute_result"
    }
   ],
   "source": [
    "# since some end with \" or !\n",
    "# let's remove those that end without punctuation or with ,\n",
    "\n",
    "def last_char(story):\n",
    "    return story[:-len(split_token)][-1]\n",
    "\n",
    "cleaned_stories = [story for story in stories if not last_char(story).isalnum() and last_char(story) != ',']\n",
    "len(cleaned_stories)"
   ]
  },
  {
   "cell_type": "code",
   "execution_count": 9,
   "metadata": {},
   "outputs": [
    {
     "data": {
      "text/plain": [
       "['One day, a little bird named Tim was playing with his friends.<|endoftext|>\\n',\n",
       " \"One day, Sam went to the park. He saw a swing and ran to it. He sat on the swing and started to move. Sam was happy.\\nSam's mom was near. She saw Sam on the swing and waved to him. Sam waved back. They both smiled.\\nSam pushed hard on the swing. He went up and down. He laughed and had fun. The swing made Sam feel good.<|endoftext|>\\n\",\n",
       " 'Once upon a time, there was a big owl. The big owl lived in a tree. The tree was in the woods.\\nOne day, the big owl saw a small rabbit. The rabbit liked to run. The big owl and the rabbit became friends.\\nThey played together every day. The rabbit would run, and the big owl would fly. They were happy and had a lot of fun.<|endoftext|>\\n',\n",
       " 'Once there was a girl. She liked to walk. One day, she went for a long walk in the woods.\\nThe girl saw many things. She saw birds, flowers, and trees. She walked and walked, but she did not know that she was lost.\\nIt got dark and the girl was scared. She cried for help, but no one heard her. The girl never found her way back home.<|endoftext|>\\n',\n",
       " 'Once upon a time, there was a colorful bird. The bird had a family. They all lived in a big tree.\\nOne day, the bird got lost. It could not find its family. The bird began to cry. It cried very loud.\\nA nice dog heard the bird cry. The dog helped the bird find its family. The bird was very happy. They all lived together in the big tree.<|endoftext|>\\n',\n",
       " 'Once upon a time, there was a frog. His name was Jack. Jack loved to jump all day.\\nOne day, Jack met a rabbit. The rabbit was very fast. Jack wanted to be fast too. So, Jack and the rabbit became friends.\\nJack and the rabbit played together. They jumped and ran in the sun. Jack learned to be fast like the rabbit. They were very happy.<|endoftext|>\\n',\n",
       " 'One day, a little bug went out to play. The sun was warm and bright. The bug was happy.\\nThe bug did not know where to go. It went up, it went down. It went to the left, it went to the right. The bug was having fun.\\nAt the end of the day, the bug was tired. It went back home. The bug was very happy. It knew it had a fun day in the warm sun.<|endoftext|>\\n',\n",
       " 'Once upon a time, there was a proud owl. The owl had many friends. The owl lived in a big tree.\\nOne day, the owl had a party. All the friends came to the tree. They had a lot of fun. They played games and ate food.\\nAt the end of the party, the owl was very happy. All the friends said \"thank you\" to the owl. The proud owl had the best day ever.<|endoftext|>\\n',\n",
       " 'Once upon a time, there was a kind boy. His name was Tom. Tom liked to play outside in the sun.\\nOne day, Tom found a stick. The stick was big and long. Tom was happy to find the stick. He named the stick \"Mr. Stick.\"\\nTom and Mr. Stick played together. They ran, jumped, and laughed. They were very good friends. And they lived happily ever after.<|endoftext|>\\n',\n",
       " 'Once upon a time, there was a little frog. The frog lived in a big pond. The frog was happy.\\nOne day, the frog saw a ball. The ball was far away. The frog wanted to get the ball. The frog jumped and jumped to get the ball.\\nFinally, the frog got the ball. The frog was very happy. The frog played with the ball all day. The frog and the ball were best friends.<|endoftext|>\\n']"
      ]
     },
     "execution_count": 9,
     "metadata": {},
     "output_type": "execute_result"
    }
   ],
   "source": [
    "# now let's print the shortest stories (we did not filter by length)\n",
    "\n",
    "sorted_stories = sorted(cleaned_stories, key=len)\n",
    "sorted_stories[:10]"
   ]
  },
  {
   "cell_type": "code",
   "execution_count": 10,
   "metadata": {},
   "outputs": [],
   "source": [
    "# results look pretty good. Let's save it\n",
    "filename = \"/n/holyscratch01/sham_lab/summer_2024/datasets/cleaned_tiny-600.txt\"\n",
    "with open(filename, 'w') as f:\n",
    "    f.write(''.join(cleaned_stories))"
   ]
  },
  {
   "cell_type": "code",
   "execution_count": 11,
   "metadata": {},
   "outputs": [],
   "source": [
    "# let's also write them as input ids\n",
    "from typing import List\n",
    "import re\n",
    "\n",
    "def explode_into_words(story: str) -> List[str]:\n",
    "    # explode a story into a list of words and single-char non-alphanumerics (e.g. punctuations)\n",
    "    return re.findall(r'\\<\\|endoftext\\|\\>|\\w+|\\W', story)"
   ]
  },
  {
   "cell_type": "code",
   "execution_count": 12,
   "metadata": {},
   "outputs": [
    {
     "name": "stdout",
     "output_type": "stream",
     "text": [
      "Number of unique words: 583\n",
      "Total tokens: 221921\n"
     ]
    }
   ],
   "source": [
    "word_set = set()\n",
    "list_of_words = []\n",
    "num_tokens = 0\n",
    "\n",
    "for story in cleaned_stories:\n",
    "    words = explode_into_words(story)\n",
    "    words = [word.lower() for word in words]\n",
    "    num_tokens += len(words)\n",
    "    list_of_words.append(words)\n",
    "    for word in words:\n",
    "        word_set.add(word)\n",
    "\n",
    "print(f\"Number of unique words: {len(word_set)}\")\n",
    "print(f\"Total tokens: {num_tokens}\")"
   ]
  },
  {
   "cell_type": "code",
   "execution_count": 13,
   "metadata": {},
   "outputs": [],
   "source": [
    "word_to_id = dict()\n",
    "for id, word in enumerate(word_set):\n",
    "    word_to_id[word] = id\n",
    "\n",
    "input_ids = []\n",
    "for words in list_of_words:\n",
    "    ids = [word_to_id[word] for word in words]\n",
    "    input_ids.append(ids)"
   ]
  },
  {
   "cell_type": "code",
   "execution_count": 14,
   "metadata": {},
   "outputs": [
    {
     "data": {
      "text/plain": [
       "248"
      ]
     },
     "execution_count": 14,
     "metadata": {},
     "output_type": "execute_result"
    }
   ],
   "source": [
    "# we need to make sure each input_ids line has the same length\n",
    "# to save into .npy\n",
    "# let the padding token be EOS token\n",
    "eos_id = word_to_id['<|endoftext|>']\n",
    "eos_id"
   ]
  },
  {
   "cell_type": "code",
   "execution_count": 15,
   "metadata": {},
   "outputs": [
    {
     "name": "stdout",
     "output_type": "stream",
     "text": [
      "maxlength: 438\n"
     ]
    }
   ],
   "source": [
    "import numpy as np\n",
    "\n",
    "# Determine the maximum length of the stories\n",
    "max_length = max(len(story_ids) for story_ids in input_ids)\n",
    "\n",
    "print(f\"maxlength: {max_length}\")"
   ]
  },
  {
   "cell_type": "code",
   "execution_count": 16,
   "metadata": {},
   "outputs": [
    {
     "data": {
      "text/plain": [
       "array([[254, 414, 539, ..., 248, 248, 248],\n",
       "       [406, 414, 397, ..., 248, 248, 248],\n",
       "       [406, 414, 397, ..., 248, 248, 248],\n",
       "       ...,\n",
       "       [254, 414, 539, ..., 248, 248, 248],\n",
       "       [254, 414, 539, ..., 248, 248, 248],\n",
       "       [406, 414, 397, ..., 248, 248, 248]])"
      ]
     },
     "execution_count": 16,
     "metadata": {},
     "output_type": "execute_result"
    }
   ],
   "source": [
    "\n",
    "# Pad each sequence with the custom token\n",
    "padded_sequences = np.array([story_ids + [eos_id] * (max_length - len(story_ids)) for story_ids in input_ids])\n",
    "\n",
    "padded_sequences\n"
   ]
  },
  {
   "cell_type": "code",
   "execution_count": 17,
   "metadata": {},
   "outputs": [],
   "source": [
    "# Save the list as a .npy file\n",
    "filename = \"/n/holyscratch01/sham_lab/summer_2024/datasets/cleaned_tiny-600.npy\"\n",
    "np.save(filename, padded_sequences)"
   ]
  },
  {
   "cell_type": "code",
   "execution_count": 18,
   "metadata": {},
   "outputs": [],
   "source": [
    "# Save the tokenizer\n",
    "import pickle\n",
    "\n",
    "with open('tokenizers/simple-600.pkl', 'wb') as file:\n",
    "    pickle.dump(word_to_id, file)"
   ]
  },
  {
   "cell_type": "code",
   "execution_count": 19,
   "metadata": {},
   "outputs": [
    {
     "data": {
      "text/plain": [
       "['Once upon a time, there was a brown dog. The dog liked to run and play. One day, the dog went far away from home. He did not know how to go back.\\nThe dog saw a big tree. He thought, \"Maybe if I go around the tree, I will find my home.\" He went around the tree, but he did not find his home. The dog was sad.\\nThen, the dog saw a little girl. The girl knew the dog. She said, \"I know where your home is!\" The girl took the dog back to his home. The dog was so happy. He did a big jump and gave the girl a hug. From that day, the dog and the girl were best friends.<|endoftext|>\\n',\n",
       " 'Once upon a time, there was a tall tree. A little cat lived in the tree. The cat was happy and liked to play all day.\\nOne day, a big man came to the tree. He wanted to cut the tree down. The cat was scared and said, \"Please don\\'t cut my tree!\" The big man stopped and looked at the cat. He did not know the cat could talk.\\nThe cat and the big man became friends. They played together and had fun. The big man decided not to cut the tree. The cat was very happy and they lived happily ever after.<|endoftext|>\\n',\n",
       " 'Once upon a time, there was a little green mouse. The green mouse lived in a small house. The house was near a big tree. The green mouse liked to play outside.\\nOne day, the green mouse went out to play. He saw a big cat. The cat saw the green mouse too. The cat said, \"Hello, green mouse. Do you want to play with me?\" The green mouse was scared, but he wanted to make a new friend.\\nThe green mouse and the cat played all day. They ran, jumped, and had fun. The green mouse was not scared anymore. The cat and the green mouse became best friends. And they played together every day.<|endoftext|>\\n',\n",
       " \"One day, a little boy named Tim went for a walk with his mom. They walked to the park and saw many trees. On the trees, there were many leaves. Tim saw that some leaves were different from the others. Some were big, some were small, and some had different colors.\\nTim's mom let him pick up the different leaves. He put them in a bag to take home. Tim was very happy. He loved the leaves he found. He wanted to show them to his friends.\\nWhen they got home, Tim showed his friends the leaves. They all thought the leaves were very nice. Tim's friends wanted to find different leaves too. So, they all went to the park together and had a fun day looking for different leaves.<|endoftext|>\\n\",\n",
       " 'One day, Tom and Sue were playing outside. They saw a big cake on the table. Tom said, \"I want to eat the cake!\" Sue said, \"Me too! Let\\'s reach for it.\" They both tried to reach the cake, but they were too small.\\nThen, a big, scared dog ran into the yard. The dog saw the cake and wanted to eat it too. The dog jumped up and reached the cake. Tom and Sue were scared, but they had an idea.\\nTom said to the dog, \"If you share the cake with us, we will not be scared and we can all be friends.\" The dog agreed and they all ate the cake together. In the end, Tom, Sue, and the dog became best friends.<|endoftext|>\\n']"
      ]
     },
     "execution_count": 19,
     "metadata": {},
     "output_type": "execute_result"
    }
   ],
   "source": [
    "import random\n",
    "\n",
    "random.sample(sorted_stories, 5)"
   ]
  }
 ],
 "metadata": {
  "kernelspec": {
   "display_name": "Python (olmo2)",
   "language": "python",
   "name": "olmo2"
  },
  "language_info": {
   "codemirror_mode": {
    "name": "ipython",
    "version": 3
   },
   "file_extension": ".py",
   "mimetype": "text/x-python",
   "name": "python",
   "nbconvert_exporter": "python",
   "pygments_lexer": "ipython3",
   "version": "3.11.2"
  }
 },
 "nbformat": 4,
 "nbformat_minor": 2
}
